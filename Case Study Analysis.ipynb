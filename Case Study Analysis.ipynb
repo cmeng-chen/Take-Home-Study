{
 "cells": [
  {
   "cell_type": "code",
   "execution_count": 68,
   "metadata": {
    "collapsed": true
   },
   "outputs": [],
   "source": [
    "import pandas as pd\n",
    "import matplotlib.pyplot as plt\n",
    "%matplotlib inline\n",
    "import seaborn as sns\n",
    "from sklearn import linear_model\n",
    "import statsmodels.api as sm"
   ]
  },
  {
   "cell_type": "code",
   "execution_count": 69,
   "metadata": {
    "collapsed": false
   },
   "outputs": [],
   "source": [
    "df = pd.read_csv('Data PMP Take-Home 2019/pmp_takehome_2019.csv')"
   ]
  },
  {
   "cell_type": "code",
   "execution_count": 70,
   "metadata": {
    "collapsed": false
   },
   "outputs": [
    {
     "data": {
      "text/html": [
       "<div>\n",
       "<style scoped>\n",
       "    .dataframe tbody tr th:only-of-type {\n",
       "        vertical-align: middle;\n",
       "    }\n",
       "\n",
       "    .dataframe tbody tr th {\n",
       "        vertical-align: top;\n",
       "    }\n",
       "\n",
       "    .dataframe thead th {\n",
       "        text-align: right;\n",
       "    }\n",
       "</style>\n",
       "<table border=\"1\" class=\"dataframe\">\n",
       "  <thead>\n",
       "    <tr style=\"text-align: right;\">\n",
       "      <th></th>\n",
       "      <th>Location number</th>\n",
       "      <th>Month</th>\n",
       "      <th>State</th>\n",
       "      <th>Gross revenue</th>\n",
       "      <th>Fixed cost</th>\n",
       "      <th>Variable cost</th>\n",
       "      <th>Rental cost</th>\n",
       "      <th>Number of products</th>\n",
       "      <th>Owned</th>\n",
       "    </tr>\n",
       "  </thead>\n",
       "  <tbody>\n",
       "    <tr>\n",
       "      <th>0</th>\n",
       "      <td>1</td>\n",
       "      <td>1</td>\n",
       "      <td>TX</td>\n",
       "      <td>48628171.02</td>\n",
       "      <td>9218156.69</td>\n",
       "      <td>24278189.23</td>\n",
       "      <td>365880</td>\n",
       "      <td>4452</td>\n",
       "      <td>False</td>\n",
       "    </tr>\n",
       "    <tr>\n",
       "      <th>1</th>\n",
       "      <td>1</td>\n",
       "      <td>2</td>\n",
       "      <td>TX</td>\n",
       "      <td>48107179.24</td>\n",
       "      <td>10587747.35</td>\n",
       "      <td>25116844.41</td>\n",
       "      <td>365880</td>\n",
       "      <td>4452</td>\n",
       "      <td>False</td>\n",
       "    </tr>\n",
       "    <tr>\n",
       "      <th>2</th>\n",
       "      <td>1</td>\n",
       "      <td>3</td>\n",
       "      <td>TX</td>\n",
       "      <td>64352278.29</td>\n",
       "      <td>10193873.77</td>\n",
       "      <td>33703499.83</td>\n",
       "      <td>365880</td>\n",
       "      <td>4452</td>\n",
       "      <td>False</td>\n",
       "    </tr>\n",
       "    <tr>\n",
       "      <th>3</th>\n",
       "      <td>1</td>\n",
       "      <td>4</td>\n",
       "      <td>TX</td>\n",
       "      <td>45943677.96</td>\n",
       "      <td>8764165.00</td>\n",
       "      <td>24037719.47</td>\n",
       "      <td>365880</td>\n",
       "      <td>4452</td>\n",
       "      <td>False</td>\n",
       "    </tr>\n",
       "    <tr>\n",
       "      <th>4</th>\n",
       "      <td>1</td>\n",
       "      <td>5</td>\n",
       "      <td>TX</td>\n",
       "      <td>32761434.98</td>\n",
       "      <td>8022116.43</td>\n",
       "      <td>16432119.18</td>\n",
       "      <td>365880</td>\n",
       "      <td>4452</td>\n",
       "      <td>False</td>\n",
       "    </tr>\n",
       "  </tbody>\n",
       "</table>\n",
       "</div>"
      ],
      "text/plain": [
       "   Location number  Month State  Gross revenue   Fixed cost  Variable cost  \\\n",
       "0                1      1    TX    48628171.02   9218156.69    24278189.23   \n",
       "1                1      2    TX    48107179.24  10587747.35    25116844.41   \n",
       "2                1      3    TX    64352278.29  10193873.77    33703499.83   \n",
       "3                1      4    TX    45943677.96   8764165.00    24037719.47   \n",
       "4                1      5    TX    32761434.98   8022116.43    16432119.18   \n",
       "\n",
       "   Rental cost  Number of products  Owned  \n",
       "0       365880                4452  False  \n",
       "1       365880                4452  False  \n",
       "2       365880                4452  False  \n",
       "3       365880                4452  False  \n",
       "4       365880                4452  False  "
      ]
     },
     "execution_count": 70,
     "metadata": {},
     "output_type": "execute_result"
    }
   ],
   "source": [
    "df.head(5)"
   ]
  },
  {
   "cell_type": "code",
   "execution_count": 71,
   "metadata": {
    "collapsed": true
   },
   "outputs": [],
   "source": [
    "#rent is not included in fixed or variable costs\n",
    "df['Profit'] = df['Gross revenue'] - df['Fixed cost'] - df['Variable cost'] - df['Rental cost']"
   ]
  },
  {
   "cell_type": "code",
   "execution_count": 102,
   "metadata": {
    "collapsed": false
   },
   "outputs": [
    {
     "data": {
      "text/html": [
       "<div>\n",
       "<style scoped>\n",
       "    .dataframe tbody tr th:only-of-type {\n",
       "        vertical-align: middle;\n",
       "    }\n",
       "\n",
       "    .dataframe tbody tr th {\n",
       "        vertical-align: top;\n",
       "    }\n",
       "\n",
       "    .dataframe thead th {\n",
       "        text-align: right;\n",
       "    }\n",
       "</style>\n",
       "<table border=\"1\" class=\"dataframe\">\n",
       "  <thead>\n",
       "    <tr style=\"text-align: right;\">\n",
       "      <th></th>\n",
       "      <th></th>\n",
       "      <th>Month</th>\n",
       "      <th>Gross revenue</th>\n",
       "      <th>Fixed cost</th>\n",
       "      <th>Variable cost</th>\n",
       "      <th>Rental cost</th>\n",
       "      <th>Number of products</th>\n",
       "      <th>Owned</th>\n",
       "      <th>Profit</th>\n",
       "    </tr>\n",
       "    <tr>\n",
       "      <th>Location number</th>\n",
       "      <th>State</th>\n",
       "      <th></th>\n",
       "      <th></th>\n",
       "      <th></th>\n",
       "      <th></th>\n",
       "      <th></th>\n",
       "      <th></th>\n",
       "      <th></th>\n",
       "      <th></th>\n",
       "    </tr>\n",
       "  </thead>\n",
       "  <tbody>\n",
       "    <tr>\n",
       "      <th>1</th>\n",
       "      <th>TX</th>\n",
       "      <td>78</td>\n",
       "      <td>5.447389e+08</td>\n",
       "      <td>1.108956e+08</td>\n",
       "      <td>2.793687e+08</td>\n",
       "      <td>4390560</td>\n",
       "      <td>53424</td>\n",
       "      <td>0.0</td>\n",
       "      <td>1.500840e+08</td>\n",
       "    </tr>\n",
       "    <tr>\n",
       "      <th>2</th>\n",
       "      <th>TX</th>\n",
       "      <td>78</td>\n",
       "      <td>3.559730e+08</td>\n",
       "      <td>7.287395e+07</td>\n",
       "      <td>1.937291e+08</td>\n",
       "      <td>783240</td>\n",
       "      <td>54024</td>\n",
       "      <td>0.0</td>\n",
       "      <td>8.858672e+07</td>\n",
       "    </tr>\n",
       "    <tr>\n",
       "      <th>3</th>\n",
       "      <th>IL</th>\n",
       "      <td>78</td>\n",
       "      <td>3.317718e+08</td>\n",
       "      <td>6.429775e+07</td>\n",
       "      <td>1.848279e+08</td>\n",
       "      <td>0</td>\n",
       "      <td>55440</td>\n",
       "      <td>12.0</td>\n",
       "      <td>8.264618e+07</td>\n",
       "    </tr>\n",
       "    <tr>\n",
       "      <th>4</th>\n",
       "      <th>GA</th>\n",
       "      <td>78</td>\n",
       "      <td>2.639843e+08</td>\n",
       "      <td>6.410409e+07</td>\n",
       "      <td>1.432398e+08</td>\n",
       "      <td>1696920</td>\n",
       "      <td>53772</td>\n",
       "      <td>0.0</td>\n",
       "      <td>5.494349e+07</td>\n",
       "    </tr>\n",
       "    <tr>\n",
       "      <th>5</th>\n",
       "      <th>NJ</th>\n",
       "      <td>78</td>\n",
       "      <td>1.890016e+08</td>\n",
       "      <td>4.475050e+07</td>\n",
       "      <td>1.037553e+08</td>\n",
       "      <td>894000</td>\n",
       "      <td>54396</td>\n",
       "      <td>0.0</td>\n",
       "      <td>3.960178e+07</td>\n",
       "    </tr>\n",
       "  </tbody>\n",
       "</table>\n",
       "</div>"
      ],
      "text/plain": [
       "                       Month  Gross revenue    Fixed cost  Variable cost  \\\n",
       "Location number State                                                      \n",
       "1               TX        78   5.447389e+08  1.108956e+08   2.793687e+08   \n",
       "2               TX        78   3.559730e+08  7.287395e+07   1.937291e+08   \n",
       "3               IL        78   3.317718e+08  6.429775e+07   1.848279e+08   \n",
       "4               GA        78   2.639843e+08  6.410409e+07   1.432398e+08   \n",
       "5               NJ        78   1.890016e+08  4.475050e+07   1.037553e+08   \n",
       "\n",
       "                       Rental cost  Number of products  Owned        Profit  \n",
       "Location number State                                                        \n",
       "1               TX         4390560               53424    0.0  1.500840e+08  \n",
       "2               TX          783240               54024    0.0  8.858672e+07  \n",
       "3               IL               0               55440   12.0  8.264618e+07  \n",
       "4               GA         1696920               53772    0.0  5.494349e+07  \n",
       "5               NJ          894000               54396    0.0  3.960178e+07  "
      ]
     },
     "execution_count": 102,
     "metadata": {},
     "output_type": "execute_result"
    }
   ],
   "source": [
    "yearly_df = df.groupby(['Location number', 'State']).sum()\n",
    "yearly_df.head(5)"
   ]
  },
  {
   "cell_type": "code",
   "execution_count": 73,
   "metadata": {
    "collapsed": true
   },
   "outputs": [],
   "source": [
    "yearly_df['Annual Profit Margin'] = yearly_df['Profit'] / yearly_df['Gross revenue']"
   ]
  },
  {
   "cell_type": "code",
   "execution_count": 74,
   "metadata": {
    "collapsed": false
   },
   "outputs": [],
   "source": [
    "monthly_df = df[['Month', 'Profit', 'Gross revenue', 'Fixed cost', 'Variable cost']].groupby('Month').sum()\n",
    "monthly_df.reset_index(inplace=True)\n",
    "monthly_df['Profit(B)'] = monthly_df['Profit']/1000000000\n",
    "monthly_df['Gross revenue(B)'] = monthly_df['Gross revenue']/1000000000\n",
    "monthly_df['Fixed cost(B)'] = monthly_df['Fixed cost']/1000000000\n",
    "monthly_df['Variable cost(B)'] = monthly_df['Variable cost']/1000000000"
   ]
  },
  {
   "cell_type": "code",
   "execution_count": 75,
   "metadata": {
    "collapsed": false
   },
   "outputs": [
    {
     "data": {
      "text/html": [
       "<div>\n",
       "<style scoped>\n",
       "    .dataframe tbody tr th:only-of-type {\n",
       "        vertical-align: middle;\n",
       "    }\n",
       "\n",
       "    .dataframe tbody tr th {\n",
       "        vertical-align: top;\n",
       "    }\n",
       "\n",
       "    .dataframe thead th {\n",
       "        text-align: right;\n",
       "    }\n",
       "</style>\n",
       "<table border=\"1\" class=\"dataframe\">\n",
       "  <thead>\n",
       "    <tr style=\"text-align: right;\">\n",
       "      <th></th>\n",
       "      <th>Month</th>\n",
       "      <th>Profit</th>\n",
       "      <th>Gross revenue</th>\n",
       "      <th>Fixed cost</th>\n",
       "      <th>Variable cost</th>\n",
       "      <th>Profit(B)</th>\n",
       "      <th>Gross revenue(B)</th>\n",
       "      <th>Fixed cost(B)</th>\n",
       "      <th>Variable cost(B)</th>\n",
       "    </tr>\n",
       "  </thead>\n",
       "  <tbody>\n",
       "    <tr>\n",
       "      <th>0</th>\n",
       "      <td>1</td>\n",
       "      <td>2.242435e+09</td>\n",
       "      <td>9.304129e+09</td>\n",
       "      <td>2.069499e+09</td>\n",
       "      <td>4.943004e+09</td>\n",
       "      <td>2.242435</td>\n",
       "      <td>9.304129</td>\n",
       "      <td>2.069499</td>\n",
       "      <td>4.943004</td>\n",
       "    </tr>\n",
       "    <tr>\n",
       "      <th>1</th>\n",
       "      <td>2</td>\n",
       "      <td>2.593018e+09</td>\n",
       "      <td>9.786843e+09</td>\n",
       "      <td>1.964354e+09</td>\n",
       "      <td>5.180280e+09</td>\n",
       "      <td>2.593018</td>\n",
       "      <td>9.786843</td>\n",
       "      <td>1.964354</td>\n",
       "      <td>5.180280</td>\n",
       "    </tr>\n",
       "    <tr>\n",
       "      <th>2</th>\n",
       "      <td>3</td>\n",
       "      <td>3.115249e+09</td>\n",
       "      <td>1.158736e+10</td>\n",
       "      <td>2.296857e+09</td>\n",
       "      <td>6.126065e+09</td>\n",
       "      <td>3.115249</td>\n",
       "      <td>11.587361</td>\n",
       "      <td>2.296857</td>\n",
       "      <td>6.126065</td>\n",
       "    </tr>\n",
       "    <tr>\n",
       "      <th>3</th>\n",
       "      <td>4</td>\n",
       "      <td>2.385892e+09</td>\n",
       "      <td>9.105208e+09</td>\n",
       "      <td>1.915483e+09</td>\n",
       "      <td>4.754642e+09</td>\n",
       "      <td>2.385892</td>\n",
       "      <td>9.105208</td>\n",
       "      <td>1.915483</td>\n",
       "      <td>4.754642</td>\n",
       "    </tr>\n",
       "    <tr>\n",
       "      <th>4</th>\n",
       "      <td>5</td>\n",
       "      <td>2.560839e+09</td>\n",
       "      <td>9.347461e+09</td>\n",
       "      <td>1.877253e+09</td>\n",
       "      <td>4.860179e+09</td>\n",
       "      <td>2.560839</td>\n",
       "      <td>9.347461</td>\n",
       "      <td>1.877253</td>\n",
       "      <td>4.860179</td>\n",
       "    </tr>\n",
       "  </tbody>\n",
       "</table>\n",
       "</div>"
      ],
      "text/plain": [
       "   Month        Profit  Gross revenue    Fixed cost  Variable cost  Profit(B)  \\\n",
       "0      1  2.242435e+09   9.304129e+09  2.069499e+09   4.943004e+09   2.242435   \n",
       "1      2  2.593018e+09   9.786843e+09  1.964354e+09   5.180280e+09   2.593018   \n",
       "2      3  3.115249e+09   1.158736e+10  2.296857e+09   6.126065e+09   3.115249   \n",
       "3      4  2.385892e+09   9.105208e+09  1.915483e+09   4.754642e+09   2.385892   \n",
       "4      5  2.560839e+09   9.347461e+09  1.877253e+09   4.860179e+09   2.560839   \n",
       "\n",
       "   Gross revenue(B)  Fixed cost(B)  Variable cost(B)  \n",
       "0          9.304129       2.069499          4.943004  \n",
       "1          9.786843       1.964354          5.180280  \n",
       "2         11.587361       2.296857          6.126065  \n",
       "3          9.105208       1.915483          4.754642  \n",
       "4          9.347461       1.877253          4.860179  "
      ]
     },
     "execution_count": 75,
     "metadata": {},
     "output_type": "execute_result"
    }
   ],
   "source": [
    "monthly_df.head(5)"
   ]
  },
  {
   "cell_type": "code",
   "execution_count": 76,
   "metadata": {
    "collapsed": false
   },
   "outputs": [],
   "source": [
    "monthly_df['Quarter'] = sum([[i]* 3 for i in range(1, 5)], [])"
   ]
  },
  {
   "cell_type": "code",
   "execution_count": 77,
   "metadata": {
    "collapsed": true
   },
   "outputs": [],
   "source": [
    "quarterly_df = monthly_df[['Quarter', 'Profit(B)', 'Gross revenue(B)', 'Fixed cost(B)', 'Variable cost(B)']].groupby('Quarter').sum()\n",
    "quarterly_df.reset_index(inplace=True)"
   ]
  },
  {
   "cell_type": "code",
   "execution_count": 78,
   "metadata": {
    "collapsed": false
   },
   "outputs": [
    {
     "data": {
      "text/html": [
       "<div>\n",
       "<style scoped>\n",
       "    .dataframe tbody tr th:only-of-type {\n",
       "        vertical-align: middle;\n",
       "    }\n",
       "\n",
       "    .dataframe tbody tr th {\n",
       "        vertical-align: top;\n",
       "    }\n",
       "\n",
       "    .dataframe thead th {\n",
       "        text-align: right;\n",
       "    }\n",
       "</style>\n",
       "<table border=\"1\" class=\"dataframe\">\n",
       "  <thead>\n",
       "    <tr style=\"text-align: right;\">\n",
       "      <th></th>\n",
       "      <th>Quarter</th>\n",
       "      <th>Profit(B)</th>\n",
       "      <th>Gross revenue(B)</th>\n",
       "      <th>Fixed cost(B)</th>\n",
       "      <th>Variable cost(B)</th>\n",
       "    </tr>\n",
       "  </thead>\n",
       "  <tbody>\n",
       "    <tr>\n",
       "      <th>0</th>\n",
       "      <td>1</td>\n",
       "      <td>7.950702</td>\n",
       "      <td>30.678333</td>\n",
       "      <td>6.330709</td>\n",
       "      <td>16.249348</td>\n",
       "    </tr>\n",
       "    <tr>\n",
       "      <th>1</th>\n",
       "      <td>2</td>\n",
       "      <td>7.971688</td>\n",
       "      <td>29.750313</td>\n",
       "      <td>6.168927</td>\n",
       "      <td>15.462124</td>\n",
       "    </tr>\n",
       "    <tr>\n",
       "      <th>2</th>\n",
       "      <td>3</td>\n",
       "      <td>8.132233</td>\n",
       "      <td>29.881072</td>\n",
       "      <td>6.241126</td>\n",
       "      <td>15.360140</td>\n",
       "    </tr>\n",
       "    <tr>\n",
       "      <th>3</th>\n",
       "      <td>4</td>\n",
       "      <td>7.731375</td>\n",
       "      <td>29.937167</td>\n",
       "      <td>6.227698</td>\n",
       "      <td>15.830521</td>\n",
       "    </tr>\n",
       "  </tbody>\n",
       "</table>\n",
       "</div>"
      ],
      "text/plain": [
       "   Quarter  Profit(B)  Gross revenue(B)  Fixed cost(B)  Variable cost(B)\n",
       "0        1   7.950702         30.678333       6.330709         16.249348\n",
       "1        2   7.971688         29.750313       6.168927         15.462124\n",
       "2        3   8.132233         29.881072       6.241126         15.360140\n",
       "3        4   7.731375         29.937167       6.227698         15.830521"
      ]
     },
     "execution_count": 78,
     "metadata": {},
     "output_type": "execute_result"
    }
   ],
   "source": [
    "quarterly_df"
   ]
  },
  {
   "cell_type": "markdown",
   "metadata": {},
   "source": [
    "## Part 1 – Summary statistics and plots"
   ]
  },
  {
   "cell_type": "markdown",
   "metadata": {},
   "source": [
    "### 1) Looking across all locations, calculate the mean and median annual profit margin of a typical store. Does the profit margin across locations appear normally distributed? Please visualize."
   ]
  },
  {
   "cell_type": "code",
   "execution_count": 79,
   "metadata": {
    "collapsed": false
   },
   "outputs": [
    {
     "data": {
      "text/html": [
       "<div>\n",
       "<style scoped>\n",
       "    .dataframe tbody tr th:only-of-type {\n",
       "        vertical-align: middle;\n",
       "    }\n",
       "\n",
       "    .dataframe tbody tr th {\n",
       "        vertical-align: top;\n",
       "    }\n",
       "\n",
       "    .dataframe thead th {\n",
       "        text-align: right;\n",
       "    }\n",
       "</style>\n",
       "<table border=\"1\" class=\"dataframe\">\n",
       "  <thead>\n",
       "    <tr style=\"text-align: right;\">\n",
       "      <th></th>\n",
       "      <th>Profit</th>\n",
       "      <th>Gross revenue</th>\n",
       "      <th>Annual Profit Margin</th>\n",
       "    </tr>\n",
       "  </thead>\n",
       "  <tbody>\n",
       "    <tr>\n",
       "      <th>count</th>\n",
       "      <td>3.330000e+02</td>\n",
       "      <td>3.330000e+02</td>\n",
       "      <td>333.000000</td>\n",
       "    </tr>\n",
       "    <tr>\n",
       "      <th>mean</th>\n",
       "      <td>9.545345e+07</td>\n",
       "      <td>3.611018e+08</td>\n",
       "      <td>0.248632</td>\n",
       "    </tr>\n",
       "    <tr>\n",
       "      <th>std</th>\n",
       "      <td>6.372627e+07</td>\n",
       "      <td>1.884411e+08</td>\n",
       "      <td>0.062474</td>\n",
       "    </tr>\n",
       "    <tr>\n",
       "      <th>min</th>\n",
       "      <td>-8.699418e+05</td>\n",
       "      <td>7.820048e+07</td>\n",
       "      <td>-0.010842</td>\n",
       "    </tr>\n",
       "    <tr>\n",
       "      <th>25%</th>\n",
       "      <td>5.250278e+07</td>\n",
       "      <td>2.388057e+08</td>\n",
       "      <td>0.212983</td>\n",
       "    </tr>\n",
       "    <tr>\n",
       "      <th>50%</th>\n",
       "      <td>8.161126e+07</td>\n",
       "      <td>3.193804e+08</td>\n",
       "      <td>0.261849</td>\n",
       "    </tr>\n",
       "    <tr>\n",
       "      <th>75%</th>\n",
       "      <td>1.211619e+08</td>\n",
       "      <td>4.313263e+08</td>\n",
       "      <td>0.293740</td>\n",
       "    </tr>\n",
       "    <tr>\n",
       "      <th>max</th>\n",
       "      <td>3.786283e+08</td>\n",
       "      <td>1.200481e+09</td>\n",
       "      <td>0.402023</td>\n",
       "    </tr>\n",
       "  </tbody>\n",
       "</table>\n",
       "</div>"
      ],
      "text/plain": [
       "             Profit  Gross revenue  Annual Profit Margin\n",
       "count  3.330000e+02   3.330000e+02            333.000000\n",
       "mean   9.545345e+07   3.611018e+08              0.248632\n",
       "std    6.372627e+07   1.884411e+08              0.062474\n",
       "min   -8.699418e+05   7.820048e+07             -0.010842\n",
       "25%    5.250278e+07   2.388057e+08              0.212983\n",
       "50%    8.161126e+07   3.193804e+08              0.261849\n",
       "75%    1.211619e+08   4.313263e+08              0.293740\n",
       "max    3.786283e+08   1.200481e+09              0.402023"
      ]
     },
     "execution_count": 79,
     "metadata": {},
     "output_type": "execute_result"
    }
   ],
   "source": [
    "# Mean and Median\n",
    "# Mean is 24.86%\n",
    "# Median is 26.18%\n",
    "yearly_df.describe()"
   ]
  },
  {
   "cell_type": "code",
   "execution_count": 81,
   "metadata": {
    "collapsed": false
   },
   "outputs": [
    {
     "data": {
      "text/plain": [
       "<matplotlib.text.Text at 0x12c71db70>"
      ]
     },
     "execution_count": 81,
     "metadata": {},
     "output_type": "execute_result"
    },
    {
     "data": {
      "image/png": "[encoded data removed]",
      "text/plain": [
       "<matplotlib.figure.Figure at 0x12ac63a58>"
      ]
     },
     "metadata": {},
     "output_type": "display_data"
    }
   ],
   "source": [
    "plt.hist(yearly_df['Annual Profit Margin'], bins=30)\n",
    "plt.xlabel('Annual Profit Margin')\n",
    "plt.ylabel('Frequency')\n",
    "plt.title('Annual Profit Margin across Locations')"
   ]
  },
  {
   "cell_type": "markdown",
   "metadata": {},
   "source": [
    "#### The profit margin seems to be a left-skewed distribution with mean less than median."
   ]
  },
  {
   "cell_type": "markdown",
   "metadata": {},
   "source": [
    "### 2) Please plot the monthly and quarterly aggregate revenue across all stores."
   ]
  },
  {
   "cell_type": "code",
   "execution_count": 82,
   "metadata": {
    "collapsed": false
   },
   "outputs": [
    {
     "data": {
      "image/png": "[encoded data removed]",
      "text/plain": [
       "<matplotlib.figure.Figure at 0x12c8c1518>"
      ]
     },
     "metadata": {},
     "output_type": "display_data"
    }
   ],
   "source": [
    "plt.plot(monthly_df['Month'],monthly_df['Gross revenue(B)'])\n",
    "plt.xticks(range(1, 13))\n",
    "plt.xlabel('Month')\n",
    "plt.ylabel('Gross revenue in Billions')\n",
    "plt.title('Monthly Aggregate Revenue across All Stores')\n",
    "plt.show()"
   ]
  },
  {
   "cell_type": "code",
   "execution_count": 83,
   "metadata": {
    "collapsed": false
   },
   "outputs": [
    {
     "data": {
      "image/png": "[encoded data removed]",
      "text/plain": [
       "<matplotlib.figure.Figure at 0x12ca229e8>"
      ]
     },
     "metadata": {},
     "output_type": "display_data"
    }
   ],
   "source": [
    "plt.plot(quarterly_df['Quarter'],quarterly_df['Gross revenue(B)'])\n",
    "plt.xticks(range(1, 5))\n",
    "plt.xlabel('Quarter')\n",
    "plt.ylabel('Gross revenue in Billions')\n",
    "plt.title('Quarterly Aggregate Revenue across All Stores')\n",
    "plt.show()"
   ]
  },
  {
   "cell_type": "code",
   "execution_count": null,
   "metadata": {
    "collapsed": true
   },
   "outputs": [],
   "source": []
  },
  {
   "cell_type": "markdown",
   "metadata": {},
   "source": [
    "## Part 2 – Cleaning the data"
   ]
  },
  {
   "cell_type": "code",
   "execution_count": null,
   "metadata": {
    "collapsed": true
   },
   "outputs": [],
   "source": [
    "# Three ideas: \n",
    "#    1. Use mean/median across all locations\n",
    "#    2. Use statewise mean/median across all locations within each state\n",
    "#    3. Impute with Regression based on other variables (number of products, fixed cost, etc)\n",
    "\n",
    "# One consideration: the missing number is not at random"
   ]
  },
  {
   "cell_type": "code",
   "execution_count": 84,
   "metadata": {
    "collapsed": false
   },
   "outputs": [],
   "source": [
    "owned_df = df[df['Owned']]\n",
    "leased_df = df[~df['Owned']]"
   ]
  },
  {
   "cell_type": "code",
   "execution_count": 85,
   "metadata": {
    "collapsed": true
   },
   "outputs": [],
   "source": [
    "owned_df = owned_df.drop(['Rental cost'], axis=1)"
   ]
  },
  {
   "cell_type": "code",
   "execution_count": 86,
   "metadata": {
    "collapsed": false
   },
   "outputs": [
    {
     "name": "stdout",
     "output_type": "stream",
     "text": [
      "Number of owned stores 36.0\n",
      "Number of leased stores 297.0\n"
     ]
    }
   ],
   "source": [
    "print(\"Number of owned stores {}\".format(len(owned_df)/12))\n",
    "print(\"Number of leased stores {}\".format(len(leased_df)/12))"
   ]
  },
  {
   "cell_type": "code",
   "execution_count": 87,
   "metadata": {
    "collapsed": false
   },
   "outputs": [
    {
     "data": {
      "text/plain": [
       "array(['TX', 'GA', 'NJ', 'IL', 'CA', 'CO', 'WA'], dtype=object)"
      ]
     },
     "execution_count": 87,
     "metadata": {},
     "output_type": "execute_result"
    }
   ],
   "source": [
    "owned_df.State.unique()\n",
    "leased_df.State.unique()"
   ]
  },
  {
   "cell_type": "code",
   "execution_count": 88,
   "metadata": {
    "collapsed": false
   },
   "outputs": [
    {
     "data": {
      "text/plain": [
       "array([False])"
      ]
     },
     "execution_count": 88,
     "metadata": {},
     "output_type": "execute_result"
    }
   ],
   "source": [
    "# Check to see if the rent is the same across months for each location -> YES\n",
    "(df.groupby('Location number')['Rental cost'].nunique() > 1).unique()"
   ]
  },
  {
   "cell_type": "code",
   "execution_count": 93,
   "metadata": {
    "collapsed": false
   },
   "outputs": [],
   "source": [
    "leased_df_cleaned = leased_df.loc[leased_df['Month'] == 1, ['Location number', 'State', 'Number of products', 'Rental cost', 'Gross revenue']]"
   ]
  },
  {
   "cell_type": "code",
   "execution_count": 106,
   "metadata": {
    "collapsed": false
   },
   "outputs": [
    {
     "data": {
      "text/plain": [
       "<matplotlib.text.Text at 0x12c8c97f0>"
      ]
     },
     "execution_count": 106,
     "metadata": {},
     "output_type": "execute_result"
    },
    {
     "data": {
      "image/png": "[encoded data removed]",
      "text/plain": [
       "<matplotlib.figure.Figure at 0x12ca6eeb8>"
      ]
     },
     "metadata": {},
     "output_type": "display_data"
    }
   ],
   "source": [
    "plt.hist(leased_df_cleaned['Rental cost'], bins=30)\n",
    "plt.xlabel('Rental Cost Across all locations')\n",
    "plt.ylabel('Frequency')"
   ]
  },
  {
   "cell_type": "code",
   "execution_count": 91,
   "metadata": {
    "collapsed": false
   },
   "outputs": [
    {
     "name": "stderr",
     "output_type": "stream",
     "text": [
      "/Users/chenmeng/anaconda/lib/python3.6/site-packages/scipy/stats/stats.py:1626: FutureWarning: Using a non-tuple sequence for multidimensional indexing is deprecated; use `arr[tuple(seq)]` instead of `arr[seq]`. In the future this will be interpreted as an array index, `arr[np.array(seq)]`, which will result either in an error or a different result.\n",
      "  return np.add.reduce(sorted[indexer] * weights, axis=axis) / sumval\n"
     ]
    },
    {
     "data": {
      "text/plain": [
       "<matplotlib.text.Text at 0x12cdca2b0>"
      ]
     },
     "execution_count": 91,
     "metadata": {},
     "output_type": "execute_result"
    },
    {
     "data": {
      "image/png": "[encoded data removed]",
      "text/plain": [
       "<matplotlib.figure.Figure at 0x12cd8d2b0>"
      ]
     },
     "metadata": {},
     "output_type": "display_data"
    }
   ],
   "source": [
    "# Check if the larger the number of products -> the larger the store -> the higher the rental cost -> NO\n",
    "sns.lmplot(x='Number of products',y='Rental cost',data=leased_df_cleaned,fit_reg=True)\n",
    "ax = plt.gca()\n",
    "ax.set_title('Relationship Between Rental Cost and Number of Products')"
   ]
  },
  {
   "cell_type": "code",
   "execution_count": 110,
   "metadata": {
    "collapsed": false
   },
   "outputs": [
    {
     "data": {
      "text/html": [
       "<table class=\"simpletable\">\n",
       "<caption>OLS Regression Results</caption>\n",
       "<tr>\n",
       "  <th>Dep. Variable:</th>       <td>Rental cost</td>   <th>  R-squared:         </th> <td>   0.001</td>\n",
       "</tr>\n",
       "<tr>\n",
       "  <th>Model:</th>                   <td>OLS</td>       <th>  Adj. R-squared:    </th> <td>  -0.002</td>\n",
       "</tr>\n",
       "<tr>\n",
       "  <th>Method:</th>             <td>Least Squares</td>  <th>  F-statistic:       </th> <td>  0.3050</td>\n",
       "</tr>\n",
       "<tr>\n",
       "  <th>Date:</th>             <td>Sun, 11 Aug 2019</td> <th>  Prob (F-statistic):</th>  <td> 0.581</td> \n",
       "</tr>\n",
       "<tr>\n",
       "  <th>Time:</th>                 <td>08:45:50</td>     <th>  Log-Likelihood:    </th> <td> -3857.9</td>\n",
       "</tr>\n",
       "<tr>\n",
       "  <th>No. Observations:</th>      <td>   297</td>      <th>  AIC:               </th> <td>   7720.</td>\n",
       "</tr>\n",
       "<tr>\n",
       "  <th>Df Residuals:</th>          <td>   295</td>      <th>  BIC:               </th> <td>   7727.</td>\n",
       "</tr>\n",
       "<tr>\n",
       "  <th>Df Model:</th>              <td>     1</td>      <th>                     </th>     <td> </td>   \n",
       "</tr>\n",
       "<tr>\n",
       "  <th>Covariance Type:</th>      <td>nonrobust</td>    <th>                     </th>     <td> </td>   \n",
       "</tr>\n",
       "</table>\n",
       "<table class=\"simpletable\">\n",
       "<tr>\n",
       "           <td></td>             <th>coef</th>     <th>std err</th>      <th>t</th>      <th>P>|t|</th>  <th>[0.025</th>    <th>0.975]</th>  \n",
       "</tr>\n",
       "<tr>\n",
       "  <th>const</th>              <td> 2.848e+05</td> <td> 2.16e+05</td> <td>    1.319</td> <td> 0.188</td> <td> -1.4e+05</td> <td>  7.1e+05</td>\n",
       "</tr>\n",
       "<tr>\n",
       "  <th>Number of products</th> <td>  -26.5395</td> <td>   48.058</td> <td>   -0.552</td> <td> 0.581</td> <td> -121.119</td> <td>   68.040</td>\n",
       "</tr>\n",
       "</table>\n",
       "<table class=\"simpletable\">\n",
       "<tr>\n",
       "  <th>Omnibus:</th>       <td>99.153</td> <th>  Durbin-Watson:     </th> <td>   2.170</td>\n",
       "</tr>\n",
       "<tr>\n",
       "  <th>Prob(Omnibus):</th> <td> 0.000</td> <th>  Jarque-Bera (JB):  </th> <td> 261.052</td>\n",
       "</tr>\n",
       "<tr>\n",
       "  <th>Skew:</th>          <td> 1.564</td> <th>  Prob(JB):          </th> <td>2.06e-57</td>\n",
       "</tr>\n",
       "<tr>\n",
       "  <th>Kurtosis:</th>      <td> 6.363</td> <th>  Cond. No.          </th> <td>1.57e+05</td>\n",
       "</tr>\n",
       "</table>"
      ],
      "text/plain": [
       "<class 'statsmodels.iolib.summary.Summary'>\n",
       "\"\"\"\n",
       "                            OLS Regression Results                            \n",
       "==============================================================================\n",
       "Dep. Variable:            Rental cost   R-squared:                       0.001\n",
       "Model:                            OLS   Adj. R-squared:                 -0.002\n",
       "Method:                 Least Squares   F-statistic:                    0.3050\n",
       "Date:                Sun, 11 Aug 2019   Prob (F-statistic):              0.581\n",
       "Time:                        08:45:50   Log-Likelihood:                -3857.9\n",
       "No. Observations:                 297   AIC:                             7720.\n",
       "Df Residuals:                     295   BIC:                             7727.\n",
       "Df Model:                           1                                         \n",
       "Covariance Type:            nonrobust                                         \n",
       "======================================================================================\n",
       "                         coef    std err          t      P>|t|      [0.025      0.975]\n",
       "--------------------------------------------------------------------------------------\n",
       "const               2.848e+05   2.16e+05      1.319      0.188    -1.4e+05     7.1e+05\n",
       "Number of products   -26.5395     48.058     -0.552      0.581    -121.119      68.040\n",
       "==============================================================================\n",
       "Omnibus:                       99.153   Durbin-Watson:                   2.170\n",
       "Prob(Omnibus):                  0.000   Jarque-Bera (JB):              261.052\n",
       "Skew:                           1.564   Prob(JB):                     2.06e-57\n",
       "Kurtosis:                       6.363   Cond. No.                     1.57e+05\n",
       "==============================================================================\n",
       "\n",
       "Warnings:\n",
       "[1] Standard Errors assume that the covariance matrix of the errors is correctly specified.\n",
       "[2] The condition number is large, 1.57e+05. This might indicate that there are\n",
       "strong multicollinearity or other numerical problems.\n",
       "\"\"\""
      ]
     },
     "execution_count": 110,
     "metadata": {},
     "output_type": "execute_result"
    }
   ],
   "source": [
    "X = leased_df_cleaned[['Number of products']] \n",
    "y = leased_df_cleaned['Rental cost']\n",
    "X = sm.add_constant(X)\n",
    "est = sm.OLS(y, X).fit()\n",
    "est.summary()"
   ]
  },
  {
   "cell_type": "code",
   "execution_count": 94,
   "metadata": {
    "collapsed": false
   },
   "outputs": [
    {
     "name": "stderr",
     "output_type": "stream",
     "text": [
      "/Users/chenmeng/anaconda/lib/python3.6/site-packages/scipy/stats/stats.py:1626: FutureWarning: Using a non-tuple sequence for multidimensional indexing is deprecated; use `arr[tuple(seq)]` instead of `arr[seq]`. In the future this will be interpreted as an array index, `arr[np.array(seq)]`, which will result either in an error or a different result.\n",
      "  return np.add.reduce(sorted[indexer] * weights, axis=axis) / sumval\n"
     ]
    },
    {
     "data": {
      "text/plain": [
       "<matplotlib.text.Text at 0x12d035da0>"
      ]
     },
     "execution_count": 94,
     "metadata": {},
     "output_type": "execute_result"
    },
    {
     "data": {
      "image/png": "[encoded data removed]",
      "text/plain": [
       "<matplotlib.figure.Figure at 0x12cb41400>"
      ]
     },
     "metadata": {},
     "output_type": "display_data"
    }
   ],
   "source": [
    "# Check if the larger the gross revenue -> the larger the store -> the higher the rental cost -> YES\n",
    "sns.lmplot(x='Gross revenue',y='Rental cost',data=leased_df_cleaned,fit_reg=True)\n",
    "ax = plt.gca()\n",
    "ax.set_title('Relationship Between Rental Cost and Gross Revenue')"
   ]
  },
  {
   "cell_type": "code",
   "execution_count": 115,
   "metadata": {
    "collapsed": false
   },
   "outputs": [
    {
     "data": {
      "text/html": [
       "<table class=\"simpletable\">\n",
       "<caption>OLS Regression Results</caption>\n",
       "<tr>\n",
       "  <th>Dep. Variable:</th>       <td>Rental cost</td>   <th>  R-squared:         </th> <td>   0.585</td>\n",
       "</tr>\n",
       "<tr>\n",
       "  <th>Model:</th>                   <td>OLS</td>       <th>  Adj. R-squared:    </th> <td>   0.579</td>\n",
       "</tr>\n",
       "<tr>\n",
       "  <th>Method:</th>             <td>Least Squares</td>  <th>  F-statistic:       </th> <td>   102.8</td>\n",
       "</tr>\n",
       "<tr>\n",
       "  <th>Date:</th>             <td>Sun, 11 Aug 2019</td> <th>  Prob (F-statistic):</th> <td>1.66e-54</td>\n",
       "</tr>\n",
       "<tr>\n",
       "  <th>Time:</th>                 <td>08:49:37</td>     <th>  Log-Likelihood:    </th> <td> -4465.6</td>\n",
       "</tr>\n",
       "<tr>\n",
       "  <th>No. Observations:</th>      <td>   297</td>      <th>  AIC:               </th> <td>   8941.</td>\n",
       "</tr>\n",
       "<tr>\n",
       "  <th>Df Residuals:</th>          <td>   292</td>      <th>  BIC:               </th> <td>   8960.</td>\n",
       "</tr>\n",
       "<tr>\n",
       "  <th>Df Model:</th>              <td>     4</td>      <th>                     </th>     <td> </td>   \n",
       "</tr>\n",
       "<tr>\n",
       "  <th>Covariance Type:</th>      <td>nonrobust</td>    <th>                     </th>     <td> </td>   \n",
       "</tr>\n",
       "</table>\n",
       "<table class=\"simpletable\">\n",
       "<tr>\n",
       "           <td></td>             <th>coef</th>     <th>std err</th>      <th>t</th>      <th>P>|t|</th>  <th>[0.025</th>    <th>0.975]</th>  \n",
       "</tr>\n",
       "<tr>\n",
       "  <th>const</th>              <td> 1.887e+07</td> <td> 2.28e+06</td> <td>    8.276</td> <td> 0.000</td> <td> 1.44e+07</td> <td> 2.34e+07</td>\n",
       "</tr>\n",
       "<tr>\n",
       "  <th>Fixed cost</th>         <td>    0.0124</td> <td>    0.006</td> <td>    1.905</td> <td> 0.058</td> <td>   -0.000</td> <td>    0.025</td>\n",
       "</tr>\n",
       "<tr>\n",
       "  <th>Gross revenue</th>      <td>    0.0114</td> <td>    0.002</td> <td>    4.749</td> <td> 0.000</td> <td>    0.007</td> <td>    0.016</td>\n",
       "</tr>\n",
       "<tr>\n",
       "  <th>Variable cost</th>      <td>   -0.0146</td> <td>    0.004</td> <td>   -3.266</td> <td> 0.001</td> <td>   -0.023</td> <td>   -0.006</td>\n",
       "</tr>\n",
       "<tr>\n",
       "  <th>Number of products</th> <td> -354.4809</td> <td>   42.295</td> <td>   -8.381</td> <td> 0.000</td> <td> -437.722</td> <td> -271.240</td>\n",
       "</tr>\n",
       "</table>\n",
       "<table class=\"simpletable\">\n",
       "<tr>\n",
       "  <th>Omnibus:</th>       <td>12.049</td> <th>  Durbin-Watson:     </th> <td>   2.042</td>\n",
       "</tr>\n",
       "<tr>\n",
       "  <th>Prob(Omnibus):</th> <td> 0.002</td> <th>  Jarque-Bera (JB):  </th> <td>  26.547</td>\n",
       "</tr>\n",
       "<tr>\n",
       "  <th>Skew:</th>          <td>-0.013</td> <th>  Prob(JB):          </th> <td>1.72e-06</td>\n",
       "</tr>\n",
       "<tr>\n",
       "  <th>Kurtosis:</th>      <td> 4.464</td> <th>  Cond. No.          </th> <td>2.14e+10</td>\n",
       "</tr>\n",
       "</table>"
      ],
      "text/plain": [
       "<class 'statsmodels.iolib.summary.Summary'>\n",
       "\"\"\"\n",
       "                            OLS Regression Results                            \n",
       "==============================================================================\n",
       "Dep. Variable:            Rental cost   R-squared:                       0.585\n",
       "Model:                            OLS   Adj. R-squared:                  0.579\n",
       "Method:                 Least Squares   F-statistic:                     102.8\n",
       "Date:                Sun, 11 Aug 2019   Prob (F-statistic):           1.66e-54\n",
       "Time:                        08:49:37   Log-Likelihood:                -4465.6\n",
       "No. Observations:                 297   AIC:                             8941.\n",
       "Df Residuals:                     292   BIC:                             8960.\n",
       "Df Model:                           4                                         \n",
       "Covariance Type:            nonrobust                                         \n",
       "======================================================================================\n",
       "                         coef    std err          t      P>|t|      [0.025      0.975]\n",
       "--------------------------------------------------------------------------------------\n",
       "const               1.887e+07   2.28e+06      8.276      0.000    1.44e+07    2.34e+07\n",
       "Fixed cost             0.0124      0.006      1.905      0.058      -0.000       0.025\n",
       "Gross revenue          0.0114      0.002      4.749      0.000       0.007       0.016\n",
       "Variable cost         -0.0146      0.004     -3.266      0.001      -0.023      -0.006\n",
       "Number of products  -354.4809     42.295     -8.381      0.000    -437.722    -271.240\n",
       "==============================================================================\n",
       "Omnibus:                       12.049   Durbin-Watson:                   2.042\n",
       "Prob(Omnibus):                  0.002   Jarque-Bera (JB):               26.547\n",
       "Skew:                          -0.013   Prob(JB):                     1.72e-06\n",
       "Kurtosis:                       4.464   Cond. No.                     2.14e+10\n",
       "==============================================================================\n",
       "\n",
       "Warnings:\n",
       "[1] Standard Errors assume that the covariance matrix of the errors is correctly specified.\n",
       "[2] The condition number is large, 2.14e+10. This might indicate that there are\n",
       "strong multicollinearity or other numerical problems.\n",
       "\"\"\""
      ]
     },
     "execution_count": 115,
     "metadata": {},
     "output_type": "execute_result"
    }
   ],
   "source": [
    "yearly_df.reset_index(inplace= True)\n",
    "yearly_df_leased = yearly_df.loc[(yearly_df['Owned'] == 0),]\n",
    "X = yearly_df_leased[['Fixed cost', 'Gross revenue', 'Variable cost', 'Number of products']] \n",
    "y = yearly_df_leased['Rental cost']\n",
    "## fit a OLS model with intercept\n",
    "X = sm.add_constant(X)\n",
    "est = sm.OLS(y, X).fit()\n",
    "est.summary()"
   ]
  },
  {
   "cell_type": "markdown",
   "metadata": {},
   "source": [
    "#### Number of products, gross revenue and variable cost all have statistically significant coefficients. However, this makes me suspicious, because from the analysis above, number of products alone is not explanatory for rental cost. Thus, it is probably due to the correlations between the independent variables. Two related questions I want to ask myself before imputing are: 1. do the relationships identified above make economic intuitive sense (for example, does it make sense for locations with higher variable cost to have consistently lower rental cost? => not really) / are correlations identified here causation? 2. would using linear regression based on these variables introduce any systematic bias, especially since all these variables are correlated among each other? => probably"
   ]
  },
  {
   "cell_type": "markdown",
   "metadata": {},
   "source": [
    "### Conclusion: I decide to use the mean store rental cost of each state for imputation"
   ]
  },
  {
   "cell_type": "code",
   "execution_count": 116,
   "metadata": {
    "collapsed": false
   },
   "outputs": [
    {
     "data": {
      "text/html": [
       "<div>\n",
       "<style scoped>\n",
       "    .dataframe tbody tr th:only-of-type {\n",
       "        vertical-align: middle;\n",
       "    }\n",
       "\n",
       "    .dataframe tbody tr th {\n",
       "        vertical-align: top;\n",
       "    }\n",
       "\n",
       "    .dataframe thead th {\n",
       "        text-align: right;\n",
       "    }\n",
       "</style>\n",
       "<table border=\"1\" class=\"dataframe\">\n",
       "  <thead>\n",
       "    <tr style=\"text-align: right;\">\n",
       "      <th></th>\n",
       "      <th>State</th>\n",
       "      <th>Location number</th>\n",
       "      <th>Number of products</th>\n",
       "      <th>Rental cost</th>\n",
       "      <th>Gross revenue</th>\n",
       "    </tr>\n",
       "  </thead>\n",
       "  <tbody>\n",
       "    <tr>\n",
       "      <th>0</th>\n",
       "      <td>CA</td>\n",
       "      <td>170.966667</td>\n",
       "      <td>4490.216667</td>\n",
       "      <td>162564.000000</td>\n",
       "      <td>2.587820e+07</td>\n",
       "    </tr>\n",
       "    <tr>\n",
       "      <th>1</th>\n",
       "      <td>CO</td>\n",
       "      <td>172.461538</td>\n",
       "      <td>4501.307692</td>\n",
       "      <td>159454.615385</td>\n",
       "      <td>2.949175e+07</td>\n",
       "    </tr>\n",
       "    <tr>\n",
       "      <th>2</th>\n",
       "      <td>GA</td>\n",
       "      <td>161.040000</td>\n",
       "      <td>4496.460000</td>\n",
       "      <td>152734.000000</td>\n",
       "      <td>2.454661e+07</td>\n",
       "    </tr>\n",
       "    <tr>\n",
       "      <th>3</th>\n",
       "      <td>IL</td>\n",
       "      <td>162.571429</td>\n",
       "      <td>4493.119048</td>\n",
       "      <td>159050.000000</td>\n",
       "      <td>2.565981e+07</td>\n",
       "    </tr>\n",
       "    <tr>\n",
       "      <th>4</th>\n",
       "      <td>NJ</td>\n",
       "      <td>154.310345</td>\n",
       "      <td>4478.137931</td>\n",
       "      <td>165716.206897</td>\n",
       "      <td>2.494214e+07</td>\n",
       "    </tr>\n",
       "    <tr>\n",
       "      <th>5</th>\n",
       "      <td>TX</td>\n",
       "      <td>183.577778</td>\n",
       "      <td>4496.111111</td>\n",
       "      <td>178770.888889</td>\n",
       "      <td>3.040141e+07</td>\n",
       "    </tr>\n",
       "    <tr>\n",
       "      <th>6</th>\n",
       "      <td>WA</td>\n",
       "      <td>142.538462</td>\n",
       "      <td>4457.538462</td>\n",
       "      <td>165574.615385</td>\n",
       "      <td>2.146791e+07</td>\n",
       "    </tr>\n",
       "  </tbody>\n",
       "</table>\n",
       "</div>"
      ],
      "text/plain": [
       "  State  Location number  Number of products    Rental cost  Gross revenue\n",
       "0    CA       170.966667         4490.216667  162564.000000   2.587820e+07\n",
       "1    CO       172.461538         4501.307692  159454.615385   2.949175e+07\n",
       "2    GA       161.040000         4496.460000  152734.000000   2.454661e+07\n",
       "3    IL       162.571429         4493.119048  159050.000000   2.565981e+07\n",
       "4    NJ       154.310345         4478.137931  165716.206897   2.494214e+07\n",
       "5    TX       183.577778         4496.111111  178770.888889   3.040141e+07\n",
       "6    WA       142.538462         4457.538462  165574.615385   2.146791e+07"
      ]
     },
     "execution_count": 116,
     "metadata": {},
     "output_type": "execute_result"
    }
   ],
   "source": [
    "leased_df_mean = leased_df_cleaned.groupby('State').mean().reset_index()\n",
    "leased_df_mean\n",
    "# What surprised me is that TX has the highest rent, while CA is only around the median"
   ]
  },
  {
   "cell_type": "code",
   "execution_count": 117,
   "metadata": {
    "collapsed": false
   },
   "outputs": [],
   "source": [
    "owned_df = pd.merge(owned_df, leased_df_mean[['State', 'Rental cost']], on = 'State', how = 'left')"
   ]
  },
  {
   "cell_type": "code",
   "execution_count": 118,
   "metadata": {
    "collapsed": false
   },
   "outputs": [
    {
     "name": "stderr",
     "output_type": "stream",
     "text": [
      "/Users/chenmeng/anaconda/lib/python3.6/site-packages/pandas/core/frame.py:6211: FutureWarning: Sorting because non-concatenation axis is not aligned. A future version\n",
      "of pandas will change to not sort by default.\n",
      "\n",
      "To accept the future behavior, pass 'sort=False'.\n",
      "\n",
      "To retain the current behavior and silence the warning, pass 'sort=True'.\n",
      "\n",
      "  sort=sort)\n"
     ]
    }
   ],
   "source": [
    "cleaned_df = leased_df.append(owned_df)"
   ]
  },
  {
   "cell_type": "code",
   "execution_count": null,
   "metadata": {
    "collapsed": false
   },
   "outputs": [],
   "source": [
    "cleaned_df.to_csv('cleaned_data.csv', index = False)"
   ]
  },
  {
   "cell_type": "code",
   "execution_count": 119,
   "metadata": {
    "collapsed": false
   },
   "outputs": [
    {
     "data": {
      "text/html": [
       "<div>\n",
       "<style scoped>\n",
       "    .dataframe tbody tr th:only-of-type {\n",
       "        vertical-align: middle;\n",
       "    }\n",
       "\n",
       "    .dataframe tbody tr th {\n",
       "        vertical-align: top;\n",
       "    }\n",
       "\n",
       "    .dataframe thead th {\n",
       "        text-align: right;\n",
       "    }\n",
       "</style>\n",
       "<table border=\"1\" class=\"dataframe\">\n",
       "  <thead>\n",
       "    <tr style=\"text-align: right;\">\n",
       "      <th></th>\n",
       "      <th>Fixed cost</th>\n",
       "      <th>Gross revenue</th>\n",
       "      <th>Location number</th>\n",
       "      <th>Month</th>\n",
       "      <th>Number of products</th>\n",
       "      <th>Owned</th>\n",
       "      <th>Profit</th>\n",
       "      <th>Rental cost</th>\n",
       "      <th>State</th>\n",
       "      <th>Variable cost</th>\n",
       "    </tr>\n",
       "  </thead>\n",
       "  <tbody>\n",
       "  </tbody>\n",
       "</table>\n",
       "</div>"
      ],
      "text/plain": [
       "Empty DataFrame\n",
       "Columns: [Fixed cost, Gross revenue, Location number, Month, Number of products, Owned, Profit, Rental cost, State, Variable cost]\n",
       "Index: []"
      ]
     },
     "execution_count": 119,
     "metadata": {},
     "output_type": "execute_result"
    }
   ],
   "source": [
    "# Check if there is still 0 rental cost -> Nope! all stores are imputed\n",
    "cleaned_df.loc[cleaned_df['Rental cost'] == 0,]"
   ]
  },
  {
   "cell_type": "markdown",
   "metadata": {},
   "source": [
    "## Part 3 – Quantify drivers of success"
   ]
  },
  {
   "cell_type": "code",
   "execution_count": 120,
   "metadata": {
    "collapsed": true
   },
   "outputs": [],
   "source": [
    "cleaned_df = pd.read_csv('cleaned_data.csv')"
   ]
  },
  {
   "cell_type": "code",
   "execution_count": 121,
   "metadata": {
    "collapsed": false
   },
   "outputs": [
    {
     "data": {
      "text/html": [
       "<div>\n",
       "<style scoped>\n",
       "    .dataframe tbody tr th:only-of-type {\n",
       "        vertical-align: middle;\n",
       "    }\n",
       "\n",
       "    .dataframe tbody tr th {\n",
       "        vertical-align: top;\n",
       "    }\n",
       "\n",
       "    .dataframe thead th {\n",
       "        text-align: right;\n",
       "    }\n",
       "</style>\n",
       "<table border=\"1\" class=\"dataframe\">\n",
       "  <thead>\n",
       "    <tr style=\"text-align: right;\">\n",
       "      <th></th>\n",
       "      <th>Fixed cost</th>\n",
       "      <th>Gross revenue</th>\n",
       "      <th>Location number</th>\n",
       "      <th>Month</th>\n",
       "      <th>Number of products</th>\n",
       "      <th>Owned</th>\n",
       "      <th>Profit</th>\n",
       "      <th>Rental cost</th>\n",
       "      <th>State</th>\n",
       "      <th>Variable cost</th>\n",
       "    </tr>\n",
       "  </thead>\n",
       "  <tbody>\n",
       "    <tr>\n",
       "      <th>0</th>\n",
       "      <td>9218156.69</td>\n",
       "      <td>48628171.02</td>\n",
       "      <td>1</td>\n",
       "      <td>1</td>\n",
       "      <td>4452</td>\n",
       "      <td>False</td>\n",
       "      <td>14765945.10</td>\n",
       "      <td>365880.0</td>\n",
       "      <td>TX</td>\n",
       "      <td>24278189.23</td>\n",
       "    </tr>\n",
       "    <tr>\n",
       "      <th>1</th>\n",
       "      <td>10587747.35</td>\n",
       "      <td>48107179.24</td>\n",
       "      <td>1</td>\n",
       "      <td>2</td>\n",
       "      <td>4452</td>\n",
       "      <td>False</td>\n",
       "      <td>12036707.48</td>\n",
       "      <td>365880.0</td>\n",
       "      <td>TX</td>\n",
       "      <td>25116844.41</td>\n",
       "    </tr>\n",
       "    <tr>\n",
       "      <th>2</th>\n",
       "      <td>10193873.77</td>\n",
       "      <td>64352278.29</td>\n",
       "      <td>1</td>\n",
       "      <td>3</td>\n",
       "      <td>4452</td>\n",
       "      <td>False</td>\n",
       "      <td>20089024.69</td>\n",
       "      <td>365880.0</td>\n",
       "      <td>TX</td>\n",
       "      <td>33703499.83</td>\n",
       "    </tr>\n",
       "    <tr>\n",
       "      <th>3</th>\n",
       "      <td>8764165.00</td>\n",
       "      <td>45943677.96</td>\n",
       "      <td>1</td>\n",
       "      <td>4</td>\n",
       "      <td>4452</td>\n",
       "      <td>False</td>\n",
       "      <td>12775913.49</td>\n",
       "      <td>365880.0</td>\n",
       "      <td>TX</td>\n",
       "      <td>24037719.47</td>\n",
       "    </tr>\n",
       "    <tr>\n",
       "      <th>4</th>\n",
       "      <td>8022116.43</td>\n",
       "      <td>32761434.98</td>\n",
       "      <td>1</td>\n",
       "      <td>5</td>\n",
       "      <td>4452</td>\n",
       "      <td>False</td>\n",
       "      <td>7941319.37</td>\n",
       "      <td>365880.0</td>\n",
       "      <td>TX</td>\n",
       "      <td>16432119.18</td>\n",
       "    </tr>\n",
       "  </tbody>\n",
       "</table>\n",
       "</div>"
      ],
      "text/plain": [
       "    Fixed cost  Gross revenue  Location number  Month  Number of products  \\\n",
       "0   9218156.69    48628171.02                1      1                4452   \n",
       "1  10587747.35    48107179.24                1      2                4452   \n",
       "2  10193873.77    64352278.29                1      3                4452   \n",
       "3   8764165.00    45943677.96                1      4                4452   \n",
       "4   8022116.43    32761434.98                1      5                4452   \n",
       "\n",
       "   Owned       Profit  Rental cost State  Variable cost  \n",
       "0  False  14765945.10     365880.0    TX    24278189.23  \n",
       "1  False  12036707.48     365880.0    TX    25116844.41  \n",
       "2  False  20089024.69     365880.0    TX    33703499.83  \n",
       "3  False  12775913.49     365880.0    TX    24037719.47  \n",
       "4  False   7941319.37     365880.0    TX    16432119.18  "
      ]
     },
     "execution_count": 121,
     "metadata": {},
     "output_type": "execute_result"
    }
   ],
   "source": [
    "cleaned_df.head()"
   ]
  },
  {
   "cell_type": "code",
   "execution_count": 122,
   "metadata": {
    "collapsed": true
   },
   "outputs": [],
   "source": [
    "cleaned_df[['Rental cost', 'Gross revenue', 'Fixed cost', 'Variable cost']] = cleaned_df[['Rental cost', 'Gross revenue', 'Fixed cost', 'Variable cost']]/1000000"
   ]
  },
  {
   "cell_type": "code",
   "execution_count": 123,
   "metadata": {
    "collapsed": false
   },
   "outputs": [],
   "source": [
    "cleaned_df['Profit'] = cleaned_df['Gross revenue'] - cleaned_df['Fixed cost'] - cleaned_df['Variable cost'] - cleaned_df['Rental cost']\n",
    "yearly_cleaned_df = cleaned_df.groupby(['Location number', 'Number of products', 'State']).sum()\n",
    "yearly_cleaned_df['Annual Profit Margin'] = yearly_cleaned_df['Profit'] / yearly_cleaned_df['Gross revenue'] * 100"
   ]
  },
  {
   "cell_type": "code",
   "execution_count": 124,
   "metadata": {
    "collapsed": false
   },
   "outputs": [
    {
     "data": {
      "text/html": [
       "<div>\n",
       "<style scoped>\n",
       "    .dataframe tbody tr th:only-of-type {\n",
       "        vertical-align: middle;\n",
       "    }\n",
       "\n",
       "    .dataframe tbody tr th {\n",
       "        vertical-align: top;\n",
       "    }\n",
       "\n",
       "    .dataframe thead th {\n",
       "        text-align: right;\n",
       "    }\n",
       "</style>\n",
       "<table border=\"1\" class=\"dataframe\">\n",
       "  <thead>\n",
       "    <tr style=\"text-align: right;\">\n",
       "      <th></th>\n",
       "      <th></th>\n",
       "      <th></th>\n",
       "      <th>Fixed cost</th>\n",
       "      <th>Gross revenue</th>\n",
       "      <th>Month</th>\n",
       "      <th>Owned</th>\n",
       "      <th>Profit</th>\n",
       "      <th>Rental cost</th>\n",
       "      <th>Variable cost</th>\n",
       "      <th>Annual Profit Margin</th>\n",
       "    </tr>\n",
       "    <tr>\n",
       "      <th>Location number</th>\n",
       "      <th>Number of products</th>\n",
       "      <th>State</th>\n",
       "      <th></th>\n",
       "      <th></th>\n",
       "      <th></th>\n",
       "      <th></th>\n",
       "      <th></th>\n",
       "      <th></th>\n",
       "      <th></th>\n",
       "      <th></th>\n",
       "    </tr>\n",
       "  </thead>\n",
       "  <tbody>\n",
       "    <tr>\n",
       "      <th>1</th>\n",
       "      <th>4452</th>\n",
       "      <th>TX</th>\n",
       "      <td>110.895577</td>\n",
       "      <td>544.738869</td>\n",
       "      <td>78</td>\n",
       "      <td>0.0</td>\n",
       "      <td>150.084018</td>\n",
       "      <td>4.39056</td>\n",
       "      <td>279.368714</td>\n",
       "      <td>27.551553</td>\n",
       "    </tr>\n",
       "    <tr>\n",
       "      <th>2</th>\n",
       "      <th>4502</th>\n",
       "      <th>TX</th>\n",
       "      <td>72.873949</td>\n",
       "      <td>355.973013</td>\n",
       "      <td>78</td>\n",
       "      <td>0.0</td>\n",
       "      <td>88.586724</td>\n",
       "      <td>0.78324</td>\n",
       "      <td>193.729100</td>\n",
       "      <td>24.885798</td>\n",
       "    </tr>\n",
       "    <tr>\n",
       "      <th>3</th>\n",
       "      <th>4620</th>\n",
       "      <th>IL</th>\n",
       "      <td>64.297749</td>\n",
       "      <td>331.771805</td>\n",
       "      <td>78</td>\n",
       "      <td>12.0</td>\n",
       "      <td>80.737580</td>\n",
       "      <td>1.90860</td>\n",
       "      <td>184.827877</td>\n",
       "      <td>24.335275</td>\n",
       "    </tr>\n",
       "    <tr>\n",
       "      <th>4</th>\n",
       "      <th>4481</th>\n",
       "      <th>GA</th>\n",
       "      <td>64.104093</td>\n",
       "      <td>263.984311</td>\n",
       "      <td>78</td>\n",
       "      <td>0.0</td>\n",
       "      <td>54.943489</td>\n",
       "      <td>1.69692</td>\n",
       "      <td>143.239810</td>\n",
       "      <td>20.813164</td>\n",
       "    </tr>\n",
       "    <tr>\n",
       "      <th>5</th>\n",
       "      <th>4533</th>\n",
       "      <th>NJ</th>\n",
       "      <td>44.750496</td>\n",
       "      <td>189.001593</td>\n",
       "      <td>78</td>\n",
       "      <td>0.0</td>\n",
       "      <td>39.601779</td>\n",
       "      <td>0.89400</td>\n",
       "      <td>103.755319</td>\n",
       "      <td>20.953145</td>\n",
       "    </tr>\n",
       "  </tbody>\n",
       "</table>\n",
       "</div>"
      ],
      "text/plain": [
       "                                          Fixed cost  Gross revenue  Month  \\\n",
       "Location number Number of products State                                     \n",
       "1               4452               TX     110.895577     544.738869     78   \n",
       "2               4502               TX      72.873949     355.973013     78   \n",
       "3               4620               IL      64.297749     331.771805     78   \n",
       "4               4481               GA      64.104093     263.984311     78   \n",
       "5               4533               NJ      44.750496     189.001593     78   \n",
       "\n",
       "                                          Owned      Profit  Rental cost  \\\n",
       "Location number Number of products State                                   \n",
       "1               4452               TX       0.0  150.084018      4.39056   \n",
       "2               4502               TX       0.0   88.586724      0.78324   \n",
       "3               4620               IL      12.0   80.737580      1.90860   \n",
       "4               4481               GA       0.0   54.943489      1.69692   \n",
       "5               4533               NJ       0.0   39.601779      0.89400   \n",
       "\n",
       "                                          Variable cost  Annual Profit Margin  \n",
       "Location number Number of products State                                       \n",
       "1               4452               TX        279.368714             27.551553  \n",
       "2               4502               TX        193.729100             24.885798  \n",
       "3               4620               IL        184.827877             24.335275  \n",
       "4               4481               GA        143.239810             20.813164  \n",
       "5               4533               NJ        103.755319             20.953145  "
      ]
     },
     "execution_count": 124,
     "metadata": {},
     "output_type": "execute_result"
    }
   ],
   "source": [
    "yearly_cleaned_df.head()"
   ]
  },
  {
   "cell_type": "code",
   "execution_count": 125,
   "metadata": {
    "collapsed": false
   },
   "outputs": [],
   "source": [
    "yearly_cleaned_df.reset_index(inplace = True)\n",
    "yearly_cleaned_df.drop(['Month','Owned'],axis=1, inplace = True)"
   ]
  },
  {
   "cell_type": "markdown",
   "metadata": {},
   "source": [
    "### Summary Table"
   ]
  },
  {
   "cell_type": "code",
   "execution_count": 135,
   "metadata": {
    "collapsed": false
   },
   "outputs": [],
   "source": [
    "summary_1 = yearly_cleaned_df.groupby(['State']).mean()[['Fixed cost', 'Variable cost', 'Rental cost', 'Gross revenue', 'Annual Profit Margin', 'Number of products']]"
   ]
  },
  {
   "cell_type": "code",
   "execution_count": 136,
   "metadata": {
    "collapsed": false
   },
   "outputs": [],
   "source": [
    "summary_1.reset_index(inplace = True)"
   ]
  },
  {
   "cell_type": "code",
   "execution_count": 137,
   "metadata": {
    "collapsed": false
   },
   "outputs": [
    {
     "data": {
      "text/html": [
       "<div>\n",
       "<style scoped>\n",
       "    .dataframe tbody tr th:only-of-type {\n",
       "        vertical-align: middle;\n",
       "    }\n",
       "\n",
       "    .dataframe tbody tr th {\n",
       "        vertical-align: top;\n",
       "    }\n",
       "\n",
       "    .dataframe thead th {\n",
       "        text-align: right;\n",
       "    }\n",
       "</style>\n",
       "<table border=\"1\" class=\"dataframe\">\n",
       "  <thead>\n",
       "    <tr style=\"text-align: right;\">\n",
       "      <th></th>\n",
       "      <th>State</th>\n",
       "      <th>Fixed cost</th>\n",
       "      <th>Variable cost</th>\n",
       "      <th>Rental cost</th>\n",
       "      <th>Gross revenue</th>\n",
       "      <th>Annual Profit Margin</th>\n",
       "      <th>Number of products</th>\n",
       "    </tr>\n",
       "  </thead>\n",
       "  <tbody>\n",
       "    <tr>\n",
       "      <th>0</th>\n",
       "      <td>CA</td>\n",
       "      <td>70.105468</td>\n",
       "      <td>177.964697</td>\n",
       "      <td>1.950768</td>\n",
       "      <td>343.843645</td>\n",
       "      <td>25.902094</td>\n",
       "      <td>4500.111111</td>\n",
       "    </tr>\n",
       "    <tr>\n",
       "      <th>1</th>\n",
       "      <td>CO</td>\n",
       "      <td>82.369781</td>\n",
       "      <td>202.951935</td>\n",
       "      <td>1.913455</td>\n",
       "      <td>390.426997</td>\n",
       "      <td>25.436247</td>\n",
       "      <td>4526.266667</td>\n",
       "    </tr>\n",
       "    <tr>\n",
       "      <th>2</th>\n",
       "      <td>GA</td>\n",
       "      <td>71.390163</td>\n",
       "      <td>173.775295</td>\n",
       "      <td>1.832808</td>\n",
       "      <td>316.527262</td>\n",
       "      <td>20.548534</td>\n",
       "      <td>4508.314815</td>\n",
       "    </tr>\n",
       "    <tr>\n",
       "      <th>3</th>\n",
       "      <td>IL</td>\n",
       "      <td>72.403999</td>\n",
       "      <td>182.640878</td>\n",
       "      <td>1.908600</td>\n",
       "      <td>349.285104</td>\n",
       "      <td>25.019871</td>\n",
       "      <td>4534.092593</td>\n",
       "    </tr>\n",
       "    <tr>\n",
       "      <th>4</th>\n",
       "      <td>NJ</td>\n",
       "      <td>79.430948</td>\n",
       "      <td>198.353539</td>\n",
       "      <td>1.988594</td>\n",
       "      <td>355.888005</td>\n",
       "      <td>19.467053</td>\n",
       "      <td>4499.968750</td>\n",
       "    </tr>\n",
       "    <tr>\n",
       "      <th>5</th>\n",
       "      <td>TX</td>\n",
       "      <td>79.706377</td>\n",
       "      <td>205.193137</td>\n",
       "      <td>2.145251</td>\n",
       "      <td>404.376219</td>\n",
       "      <td>27.846303</td>\n",
       "      <td>4513.445545</td>\n",
       "    </tr>\n",
       "    <tr>\n",
       "      <th>6</th>\n",
       "      <td>WA</td>\n",
       "      <td>68.517828</td>\n",
       "      <td>166.270373</td>\n",
       "      <td>1.986895</td>\n",
       "      <td>324.574983</td>\n",
       "      <td>25.139226</td>\n",
       "      <td>4472.000000</td>\n",
       "    </tr>\n",
       "  </tbody>\n",
       "</table>\n",
       "</div>"
      ],
      "text/plain": [
       "  State  Fixed cost  Variable cost  Rental cost  Gross revenue  \\\n",
       "0    CA   70.105468     177.964697     1.950768     343.843645   \n",
       "1    CO   82.369781     202.951935     1.913455     390.426997   \n",
       "2    GA   71.390163     173.775295     1.832808     316.527262   \n",
       "3    IL   72.403999     182.640878     1.908600     349.285104   \n",
       "4    NJ   79.430948     198.353539     1.988594     355.888005   \n",
       "5    TX   79.706377     205.193137     2.145251     404.376219   \n",
       "6    WA   68.517828     166.270373     1.986895     324.574983   \n",
       "\n",
       "   Annual Profit Margin  Number of products  \n",
       "0             25.902094         4500.111111  \n",
       "1             25.436247         4526.266667  \n",
       "2             20.548534         4508.314815  \n",
       "3             25.019871         4534.092593  \n",
       "4             19.467053         4499.968750  \n",
       "5             27.846303         4513.445545  \n",
       "6             25.139226         4472.000000  "
      ]
     },
     "execution_count": 137,
     "metadata": {},
     "output_type": "execute_result"
    }
   ],
   "source": [
    "summary_1"
   ]
  },
  {
   "cell_type": "code",
   "execution_count": 128,
   "metadata": {
    "collapsed": false
   },
   "outputs": [],
   "source": [
    "summary_1['Fixed cost']  = summary_1['Fixed cost'] / summary_1['Gross revenue']\n",
    "summary_1['Variable cost']  = summary_1['Variable cost'] / summary_1['Gross revenue']\n",
    "summary_1['Rental cost']  = summary_1['Rental cost'] / summary_1['Gross revenue']"
   ]
  },
  {
   "cell_type": "code",
   "execution_count": 129,
   "metadata": {
    "collapsed": true
   },
   "outputs": [],
   "source": [
    "summary_1.rename({'Fixed cost': 'Fixed cost Percentage', 'Variable cost': 'Variable cost Percentage', 'Rental cost': 'Rental cost Percentage'}, axis=1, inplace=True)"
   ]
  },
  {
   "cell_type": "code",
   "execution_count": 130,
   "metadata": {
    "collapsed": false
   },
   "outputs": [
    {
     "data": {
      "text/html": [
       "<div>\n",
       "<style scoped>\n",
       "    .dataframe tbody tr th:only-of-type {\n",
       "        vertical-align: middle;\n",
       "    }\n",
       "\n",
       "    .dataframe tbody tr th {\n",
       "        vertical-align: top;\n",
       "    }\n",
       "\n",
       "    .dataframe thead th {\n",
       "        text-align: right;\n",
       "    }\n",
       "</style>\n",
       "<table border=\"1\" class=\"dataframe\">\n",
       "  <thead>\n",
       "    <tr style=\"text-align: right;\">\n",
       "      <th></th>\n",
       "      <th>State</th>\n",
       "      <th>Fixed cost Percentage</th>\n",
       "      <th>Variable cost Percentage</th>\n",
       "      <th>Rental cost Percentage</th>\n",
       "      <th>Gross revenue</th>\n",
       "      <th>Annual Profit Margin</th>\n",
       "      <th>Number of products</th>\n",
       "    </tr>\n",
       "  </thead>\n",
       "  <tbody>\n",
       "    <tr>\n",
       "      <th>0</th>\n",
       "      <td>CA</td>\n",
       "      <td>0.203888</td>\n",
       "      <td>0.517574</td>\n",
       "      <td>0.005673</td>\n",
       "      <td>343.843645</td>\n",
       "      <td>25.902094</td>\n",
       "      <td>4500.111111</td>\n",
       "    </tr>\n",
       "    <tr>\n",
       "      <th>1</th>\n",
       "      <td>CO</td>\n",
       "      <td>0.210974</td>\n",
       "      <td>0.519820</td>\n",
       "      <td>0.004901</td>\n",
       "      <td>390.426997</td>\n",
       "      <td>25.436247</td>\n",
       "      <td>4526.266667</td>\n",
       "    </tr>\n",
       "    <tr>\n",
       "      <th>2</th>\n",
       "      <td>GA</td>\n",
       "      <td>0.225542</td>\n",
       "      <td>0.549006</td>\n",
       "      <td>0.005790</td>\n",
       "      <td>316.527262</td>\n",
       "      <td>20.548534</td>\n",
       "      <td>4508.314815</td>\n",
       "    </tr>\n",
       "    <tr>\n",
       "      <th>3</th>\n",
       "      <td>IL</td>\n",
       "      <td>0.207292</td>\n",
       "      <td>0.522899</td>\n",
       "      <td>0.005464</td>\n",
       "      <td>349.285104</td>\n",
       "      <td>25.019871</td>\n",
       "      <td>4534.092593</td>\n",
       "    </tr>\n",
       "    <tr>\n",
       "      <th>4</th>\n",
       "      <td>NJ</td>\n",
       "      <td>0.223191</td>\n",
       "      <td>0.557348</td>\n",
       "      <td>0.005588</td>\n",
       "      <td>355.888005</td>\n",
       "      <td>19.467053</td>\n",
       "      <td>4499.968750</td>\n",
       "    </tr>\n",
       "    <tr>\n",
       "      <th>5</th>\n",
       "      <td>TX</td>\n",
       "      <td>0.197109</td>\n",
       "      <td>0.507431</td>\n",
       "      <td>0.005305</td>\n",
       "      <td>404.376219</td>\n",
       "      <td>27.846303</td>\n",
       "      <td>4513.445545</td>\n",
       "    </tr>\n",
       "    <tr>\n",
       "      <th>6</th>\n",
       "      <td>WA</td>\n",
       "      <td>0.211100</td>\n",
       "      <td>0.512271</td>\n",
       "      <td>0.006122</td>\n",
       "      <td>324.574983</td>\n",
       "      <td>25.139226</td>\n",
       "      <td>4472.000000</td>\n",
       "    </tr>\n",
       "  </tbody>\n",
       "</table>\n",
       "</div>"
      ],
      "text/plain": [
       "  State  Fixed cost Percentage  Variable cost Percentage  \\\n",
       "0    CA               0.203888                  0.517574   \n",
       "1    CO               0.210974                  0.519820   \n",
       "2    GA               0.225542                  0.549006   \n",
       "3    IL               0.207292                  0.522899   \n",
       "4    NJ               0.223191                  0.557348   \n",
       "5    TX               0.197109                  0.507431   \n",
       "6    WA               0.211100                  0.512271   \n",
       "\n",
       "   Rental cost Percentage  Gross revenue  Annual Profit Margin  \\\n",
       "0                0.005673     343.843645             25.902094   \n",
       "1                0.004901     390.426997             25.436247   \n",
       "2                0.005790     316.527262             20.548534   \n",
       "3                0.005464     349.285104             25.019871   \n",
       "4                0.005588     355.888005             19.467053   \n",
       "5                0.005305     404.376219             27.846303   \n",
       "6                0.006122     324.574983             25.139226   \n",
       "\n",
       "   Number of products  \n",
       "0         4500.111111  \n",
       "1         4526.266667  \n",
       "2         4508.314815  \n",
       "3         4534.092593  \n",
       "4         4499.968750  \n",
       "5         4513.445545  \n",
       "6         4472.000000  "
      ]
     },
     "execution_count": 130,
     "metadata": {},
     "output_type": "execute_result"
    }
   ],
   "source": [
    "summary_1"
   ]
  },
  {
   "cell_type": "code",
   "execution_count": 131,
   "metadata": {
    "collapsed": false
   },
   "outputs": [],
   "source": [
    "summary_1['Fixed cost Percentage'] = pd.Series([\"{0:.2f}%\".format(val * 100) for val in summary_1['Fixed cost Percentage']], index = summary_1.index)\n",
    "summary_1['Rental cost Percentage'] = pd.Series([\"{0:.2f}%\".format(val * 100) for val in summary_1['Rental cost Percentage']], index = summary_1.index)\n",
    "summary_1['Variable cost Percentage'] = pd.Series([\"{0:.2f}%\".format(val * 100) for val in summary_1['Variable cost Percentage']], index = summary_1.index)\n",
    "summary_1['Annual Profit Margin'] = pd.Series([\"{0:.2f}%\".format(val) for val in summary_1['Annual Profit Margin']], index = summary_1.index)"
   ]
  },
  {
   "cell_type": "code",
   "execution_count": 132,
   "metadata": {
    "collapsed": true
   },
   "outputs": [],
   "source": [
    "summary_1 = summary_1[['State', 'Fixed cost Percentage', 'Variable cost Percentage', 'Rental cost Percentage', 'Annual Profit Margin', 'Gross revenue', 'Number of products']]"
   ]
  },
  {
   "cell_type": "code",
   "execution_count": 133,
   "metadata": {
    "collapsed": false
   },
   "outputs": [
    {
     "data": {
      "text/html": [
       "<div>\n",
       "<style scoped>\n",
       "    .dataframe tbody tr th:only-of-type {\n",
       "        vertical-align: middle;\n",
       "    }\n",
       "\n",
       "    .dataframe tbody tr th {\n",
       "        vertical-align: top;\n",
       "    }\n",
       "\n",
       "    .dataframe thead th {\n",
       "        text-align: right;\n",
       "    }\n",
       "</style>\n",
       "<table border=\"1\" class=\"dataframe\">\n",
       "  <thead>\n",
       "    <tr style=\"text-align: right;\">\n",
       "      <th></th>\n",
       "      <th>State</th>\n",
       "      <th>Fixed cost Percentage</th>\n",
       "      <th>Variable cost Percentage</th>\n",
       "      <th>Rental cost Percentage</th>\n",
       "      <th>Annual Profit Margin</th>\n",
       "      <th>Gross revenue</th>\n",
       "      <th>Number of products</th>\n",
       "    </tr>\n",
       "  </thead>\n",
       "  <tbody>\n",
       "    <tr>\n",
       "      <th>4</th>\n",
       "      <td>NJ</td>\n",
       "      <td>22.32%</td>\n",
       "      <td>55.73%</td>\n",
       "      <td>0.56%</td>\n",
       "      <td>19.47%</td>\n",
       "      <td>355.888005</td>\n",
       "      <td>4499.968750</td>\n",
       "    </tr>\n",
       "    <tr>\n",
       "      <th>2</th>\n",
       "      <td>GA</td>\n",
       "      <td>22.55%</td>\n",
       "      <td>54.90%</td>\n",
       "      <td>0.58%</td>\n",
       "      <td>20.55%</td>\n",
       "      <td>316.527262</td>\n",
       "      <td>4508.314815</td>\n",
       "    </tr>\n",
       "    <tr>\n",
       "      <th>3</th>\n",
       "      <td>IL</td>\n",
       "      <td>20.73%</td>\n",
       "      <td>52.29%</td>\n",
       "      <td>0.55%</td>\n",
       "      <td>25.02%</td>\n",
       "      <td>349.285104</td>\n",
       "      <td>4534.092593</td>\n",
       "    </tr>\n",
       "    <tr>\n",
       "      <th>6</th>\n",
       "      <td>WA</td>\n",
       "      <td>21.11%</td>\n",
       "      <td>51.23%</td>\n",
       "      <td>0.61%</td>\n",
       "      <td>25.14%</td>\n",
       "      <td>324.574983</td>\n",
       "      <td>4472.000000</td>\n",
       "    </tr>\n",
       "    <tr>\n",
       "      <th>1</th>\n",
       "      <td>CO</td>\n",
       "      <td>21.10%</td>\n",
       "      <td>51.98%</td>\n",
       "      <td>0.49%</td>\n",
       "      <td>25.44%</td>\n",
       "      <td>390.426997</td>\n",
       "      <td>4526.266667</td>\n",
       "    </tr>\n",
       "    <tr>\n",
       "      <th>0</th>\n",
       "      <td>CA</td>\n",
       "      <td>20.39%</td>\n",
       "      <td>51.76%</td>\n",
       "      <td>0.57%</td>\n",
       "      <td>25.90%</td>\n",
       "      <td>343.843645</td>\n",
       "      <td>4500.111111</td>\n",
       "    </tr>\n",
       "    <tr>\n",
       "      <th>5</th>\n",
       "      <td>TX</td>\n",
       "      <td>19.71%</td>\n",
       "      <td>50.74%</td>\n",
       "      <td>0.53%</td>\n",
       "      <td>27.85%</td>\n",
       "      <td>404.376219</td>\n",
       "      <td>4513.445545</td>\n",
       "    </tr>\n",
       "  </tbody>\n",
       "</table>\n",
       "</div>"
      ],
      "text/plain": [
       "  State Fixed cost Percentage Variable cost Percentage Rental cost Percentage  \\\n",
       "4    NJ                22.32%                   55.73%                  0.56%   \n",
       "2    GA                22.55%                   54.90%                  0.58%   \n",
       "3    IL                20.73%                   52.29%                  0.55%   \n",
       "6    WA                21.11%                   51.23%                  0.61%   \n",
       "1    CO                21.10%                   51.98%                  0.49%   \n",
       "0    CA                20.39%                   51.76%                  0.57%   \n",
       "5    TX                19.71%                   50.74%                  0.53%   \n",
       "\n",
       "  Annual Profit Margin  Gross revenue  Number of products  \n",
       "4               19.47%     355.888005         4499.968750  \n",
       "2               20.55%     316.527262         4508.314815  \n",
       "3               25.02%     349.285104         4534.092593  \n",
       "6               25.14%     324.574983         4472.000000  \n",
       "1               25.44%     390.426997         4526.266667  \n",
       "0               25.90%     343.843645         4500.111111  \n",
       "5               27.85%     404.376219         4513.445545  "
      ]
     },
     "execution_count": 133,
     "metadata": {},
     "output_type": "execute_result"
    }
   ],
   "source": [
    "summary_1.sort_values('Annual Profit Margin')"
   ]
  },
  {
   "cell_type": "code",
   "execution_count": 138,
   "metadata": {
    "collapsed": false
   },
   "outputs": [],
   "source": [
    "monthly_cleaned_df = cleaned_df.loc[:,['State', 'Month', 'Profit', 'Gross revenue', 'Fixed cost', 'Variable cost', 'Rental cost']].groupby(['Month', 'State']).mean().reset_index()"
   ]
  },
  {
   "cell_type": "code",
   "execution_count": 139,
   "metadata": {
    "collapsed": false
   },
   "outputs": [
    {
     "data": {
      "text/html": [
       "<div>\n",
       "<style scoped>\n",
       "    .dataframe tbody tr th:only-of-type {\n",
       "        vertical-align: middle;\n",
       "    }\n",
       "\n",
       "    .dataframe tbody tr th {\n",
       "        vertical-align: top;\n",
       "    }\n",
       "\n",
       "    .dataframe thead th {\n",
       "        text-align: right;\n",
       "    }\n",
       "</style>\n",
       "<table border=\"1\" class=\"dataframe\">\n",
       "  <thead>\n",
       "    <tr style=\"text-align: right;\">\n",
       "      <th></th>\n",
       "      <th>Month</th>\n",
       "      <th>State</th>\n",
       "      <th>Profit</th>\n",
       "      <th>Gross revenue</th>\n",
       "      <th>Fixed cost</th>\n",
       "      <th>Variable cost</th>\n",
       "      <th>Rental cost</th>\n",
       "    </tr>\n",
       "  </thead>\n",
       "  <tbody>\n",
       "    <tr>\n",
       "      <th>0</th>\n",
       "      <td>1</td>\n",
       "      <td>CA</td>\n",
       "      <td>6.732820</td>\n",
       "      <td>26.850985</td>\n",
       "      <td>5.846049</td>\n",
       "      <td>14.109551</td>\n",
       "      <td>0.162564</td>\n",
       "    </tr>\n",
       "    <tr>\n",
       "      <th>1</th>\n",
       "      <td>1</td>\n",
       "      <td>CO</td>\n",
       "      <td>7.332965</td>\n",
       "      <td>31.022081</td>\n",
       "      <td>6.992144</td>\n",
       "      <td>16.537518</td>\n",
       "      <td>0.159455</td>\n",
       "    </tr>\n",
       "    <tr>\n",
       "      <th>2</th>\n",
       "      <td>1</td>\n",
       "      <td>GA</td>\n",
       "      <td>4.912733</td>\n",
       "      <td>24.673560</td>\n",
       "      <td>5.827108</td>\n",
       "      <td>13.780985</td>\n",
       "      <td>0.152734</td>\n",
       "    </tr>\n",
       "    <tr>\n",
       "      <th>3</th>\n",
       "      <td>1</td>\n",
       "      <td>IL</td>\n",
       "      <td>6.616486</td>\n",
       "      <td>27.133391</td>\n",
       "      <td>6.021225</td>\n",
       "      <td>14.336630</td>\n",
       "      <td>0.159050</td>\n",
       "    </tr>\n",
       "    <tr>\n",
       "      <th>4</th>\n",
       "      <td>1</td>\n",
       "      <td>NJ</td>\n",
       "      <td>5.353857</td>\n",
       "      <td>27.739281</td>\n",
       "      <td>6.546240</td>\n",
       "      <td>15.673467</td>\n",
       "      <td>0.165716</td>\n",
       "    </tr>\n",
       "  </tbody>\n",
       "</table>\n",
       "</div>"
      ],
      "text/plain": [
       "   Month State    Profit  Gross revenue  Fixed cost  Variable cost  \\\n",
       "0      1    CA  6.732820      26.850985    5.846049      14.109551   \n",
       "1      1    CO  7.332965      31.022081    6.992144      16.537518   \n",
       "2      1    GA  4.912733      24.673560    5.827108      13.780985   \n",
       "3      1    IL  6.616486      27.133391    6.021225      14.336630   \n",
       "4      1    NJ  5.353857      27.739281    6.546240      15.673467   \n",
       "\n",
       "   Rental cost  \n",
       "0     0.162564  \n",
       "1     0.159455  \n",
       "2     0.152734  \n",
       "3     0.159050  \n",
       "4     0.165716  "
      ]
     },
     "execution_count": 139,
     "metadata": {},
     "output_type": "execute_result"
    }
   ],
   "source": [
    "monthly_cleaned_df.head()"
   ]
  },
  {
   "cell_type": "code",
   "execution_count": 140,
   "metadata": {
    "collapsed": false
   },
   "outputs": [
    {
     "data": {
      "text/html": [
       "<div>\n",
       "<style scoped>\n",
       "    .dataframe tbody tr th:only-of-type {\n",
       "        vertical-align: middle;\n",
       "    }\n",
       "\n",
       "    .dataframe tbody tr th {\n",
       "        vertical-align: top;\n",
       "    }\n",
       "\n",
       "    .dataframe thead th {\n",
       "        text-align: right;\n",
       "    }\n",
       "</style>\n",
       "<table border=\"1\" class=\"dataframe\">\n",
       "  <thead>\n",
       "    <tr style=\"text-align: right;\">\n",
       "      <th></th>\n",
       "      <th>Month</th>\n",
       "      <th>State</th>\n",
       "      <th>Profit</th>\n",
       "      <th>Gross revenue</th>\n",
       "      <th>Fixed cost</th>\n",
       "      <th>Variable cost</th>\n",
       "      <th>Rental cost</th>\n",
       "      <th>Quarter</th>\n",
       "    </tr>\n",
       "  </thead>\n",
       "  <tbody>\n",
       "    <tr>\n",
       "      <th>0</th>\n",
       "      <td>1</td>\n",
       "      <td>CA</td>\n",
       "      <td>6.732820</td>\n",
       "      <td>26.850985</td>\n",
       "      <td>5.846049</td>\n",
       "      <td>14.109551</td>\n",
       "      <td>0.162564</td>\n",
       "      <td>1</td>\n",
       "    </tr>\n",
       "    <tr>\n",
       "      <th>1</th>\n",
       "      <td>1</td>\n",
       "      <td>CO</td>\n",
       "      <td>7.332965</td>\n",
       "      <td>31.022081</td>\n",
       "      <td>6.992144</td>\n",
       "      <td>16.537518</td>\n",
       "      <td>0.159455</td>\n",
       "      <td>1</td>\n",
       "    </tr>\n",
       "    <tr>\n",
       "      <th>2</th>\n",
       "      <td>1</td>\n",
       "      <td>GA</td>\n",
       "      <td>4.912733</td>\n",
       "      <td>24.673560</td>\n",
       "      <td>5.827108</td>\n",
       "      <td>13.780985</td>\n",
       "      <td>0.152734</td>\n",
       "      <td>1</td>\n",
       "    </tr>\n",
       "    <tr>\n",
       "      <th>3</th>\n",
       "      <td>1</td>\n",
       "      <td>IL</td>\n",
       "      <td>6.616486</td>\n",
       "      <td>27.133391</td>\n",
       "      <td>6.021225</td>\n",
       "      <td>14.336630</td>\n",
       "      <td>0.159050</td>\n",
       "      <td>1</td>\n",
       "    </tr>\n",
       "    <tr>\n",
       "      <th>4</th>\n",
       "      <td>1</td>\n",
       "      <td>NJ</td>\n",
       "      <td>5.353857</td>\n",
       "      <td>27.739281</td>\n",
       "      <td>6.546240</td>\n",
       "      <td>15.673467</td>\n",
       "      <td>0.165716</td>\n",
       "      <td>1</td>\n",
       "    </tr>\n",
       "  </tbody>\n",
       "</table>\n",
       "</div>"
      ],
      "text/plain": [
       "   Month State    Profit  Gross revenue  Fixed cost  Variable cost  \\\n",
       "0      1    CA  6.732820      26.850985    5.846049      14.109551   \n",
       "1      1    CO  7.332965      31.022081    6.992144      16.537518   \n",
       "2      1    GA  4.912733      24.673560    5.827108      13.780985   \n",
       "3      1    IL  6.616486      27.133391    6.021225      14.336630   \n",
       "4      1    NJ  5.353857      27.739281    6.546240      15.673467   \n",
       "\n",
       "   Rental cost  Quarter  \n",
       "0     0.162564        1  \n",
       "1     0.159455        1  \n",
       "2     0.152734        1  \n",
       "3     0.159050        1  \n",
       "4     0.165716        1  "
      ]
     },
     "execution_count": 140,
     "metadata": {},
     "output_type": "execute_result"
    }
   ],
   "source": [
    "monthly_cleaned_df['Quarter'] = sum([[i]* 21 for i in range(1, 5)], [])\n",
    "monthly_cleaned_df.head()"
   ]
  },
  {
   "cell_type": "code",
   "execution_count": 145,
   "metadata": {
    "collapsed": false
   },
   "outputs": [],
   "source": [
    "quarterly_cleaned_df = monthly_cleaned_df[['State', 'Quarter', 'Profit', 'Gross revenue', 'Fixed cost', 'Variable cost', 'Rental cost']].groupby(['Quarter', 'State']).sum()\n",
    "quarterly_cleaned_df.reset_index(inplace = True)"
   ]
  },
  {
   "cell_type": "code",
   "execution_count": 146,
   "metadata": {
    "collapsed": false
   },
   "outputs": [],
   "source": [
    "quarterly_cleaned_df['Profit margin'] = quarterly_cleaned_df['Profit'] / quarterly_cleaned_df['Gross revenue']\n",
    "quarterly_cleaned_df['Cost'] = quarterly_cleaned_df['Fixed cost'] + quarterly_cleaned_df['Variable cost'] + quarterly_cleaned_df['Rental cost']"
   ]
  },
  {
   "cell_type": "code",
   "execution_count": 148,
   "metadata": {
    "collapsed": false
   },
   "outputs": [
    {
     "data": {
      "text/plain": [
       "[<matplotlib.axis.XTick at 0x12dd97b38>,\n",
       " <matplotlib.axis.XTick at 0x12de2ad68>,\n",
       " <matplotlib.axis.XTick at 0x12def4a90>,\n",
       " <matplotlib.axis.XTick at 0x12defe710>]"
      ]
     },
     "execution_count": 148,
     "metadata": {},
     "output_type": "execute_result"
    },
    {
     "data": {
      "image/png": "[encoded data removed]",
      "text/plain": [
       "<matplotlib.figure.Figure at 0x12db84828>"
      ]
     },
     "metadata": {},
     "output_type": "display_data"
    }
   ],
   "source": [
    "#Code to draw variable trends\n",
    "variable = 'Cost'\n",
    "quarterly_cleaned_df_pivot = quarterly_cleaned_df.pivot(index='Quarter', columns='State', values= variable)\n",
    "\n",
    "plt = quarterly_cleaned_df_pivot.plot()\n",
    "plt.set_ylabel(variable + 'by States')\n",
    "plt.set_title(\"Mean Quarterly \" + variable + \" across States\")\n",
    "plt.legend(bbox_to_anchor=(1.2, 0.5))\n",
    "plt.set_xticks(range(1, 5))"
   ]
  },
  {
   "cell_type": "code",
   "execution_count": 67,
   "metadata": {
    "collapsed": false
   },
   "outputs": [
    {
     "data": {
      "text/html": [
       "<div>\n",
       "<style scoped>\n",
       "    .dataframe tbody tr th:only-of-type {\n",
       "        vertical-align: middle;\n",
       "    }\n",
       "\n",
       "    .dataframe tbody tr th {\n",
       "        vertical-align: top;\n",
       "    }\n",
       "\n",
       "    .dataframe thead th {\n",
       "        text-align: right;\n",
       "    }\n",
       "</style>\n",
       "<table border=\"1\" class=\"dataframe\">\n",
       "  <thead>\n",
       "    <tr style=\"text-align: right;\">\n",
       "      <th>State</th>\n",
       "      <th>CA</th>\n",
       "      <th>CO</th>\n",
       "      <th>GA</th>\n",
       "      <th>IL</th>\n",
       "      <th>NJ</th>\n",
       "      <th>TX</th>\n",
       "      <th>WA</th>\n",
       "    </tr>\n",
       "    <tr>\n",
       "      <th>Quarter</th>\n",
       "      <th></th>\n",
       "      <th></th>\n",
       "      <th></th>\n",
       "      <th></th>\n",
       "      <th></th>\n",
       "      <th></th>\n",
       "      <th></th>\n",
       "    </tr>\n",
       "  </thead>\n",
       "  <tbody>\n",
       "    <tr>\n",
       "      <th>1</th>\n",
       "      <td>65.243845</td>\n",
       "      <td>73.328701</td>\n",
       "      <td>64.403127</td>\n",
       "      <td>65.747308</td>\n",
       "      <td>72.449685</td>\n",
       "      <td>72.751951</td>\n",
       "      <td>60.053143</td>\n",
       "    </tr>\n",
       "    <tr>\n",
       "      <th>2</th>\n",
       "      <td>60.848123</td>\n",
       "      <td>69.930598</td>\n",
       "      <td>60.868310</td>\n",
       "      <td>63.777444</td>\n",
       "      <td>69.374290</td>\n",
       "      <td>70.953849</td>\n",
       "      <td>56.922399</td>\n",
       "    </tr>\n",
       "    <tr>\n",
       "      <th>3</th>\n",
       "      <td>61.083213</td>\n",
       "      <td>71.801614</td>\n",
       "      <td>60.803531</td>\n",
       "      <td>62.710066</td>\n",
       "      <td>69.540743</td>\n",
       "      <td>70.416430</td>\n",
       "      <td>59.595791</td>\n",
       "    </tr>\n",
       "    <tr>\n",
       "      <th>4</th>\n",
       "      <td>62.845752</td>\n",
       "      <td>72.174258</td>\n",
       "      <td>60.923299</td>\n",
       "      <td>64.718659</td>\n",
       "      <td>68.408363</td>\n",
       "      <td>72.922535</td>\n",
       "      <td>60.203764</td>\n",
       "    </tr>\n",
       "  </tbody>\n",
       "</table>\n",
       "</div>"
      ],
      "text/plain": [
       "State           CA         CO         GA         IL         NJ         TX  \\\n",
       "Quarter                                                                     \n",
       "1        65.243845  73.328701  64.403127  65.747308  72.449685  72.751951   \n",
       "2        60.848123  69.930598  60.868310  63.777444  69.374290  70.953849   \n",
       "3        61.083213  71.801614  60.803531  62.710066  69.540743  70.416430   \n",
       "4        62.845752  72.174258  60.923299  64.718659  68.408363  72.922535   \n",
       "\n",
       "State           WA  \n",
       "Quarter             \n",
       "1        60.053143  \n",
       "2        56.922399  \n",
       "3        59.595791  \n",
       "4        60.203764  "
      ]
     },
     "execution_count": 67,
     "metadata": {},
     "output_type": "execute_result"
    }
   ],
   "source": [
    "quarterly_cleaned_df"
   ]
  },
  {
   "cell_type": "markdown",
   "metadata": {},
   "source": [
    "## Observation 1: NJ and GA have the lowest average annual profit margins, with NJ due to relatively high cost (both fixed and variable) and GA due to relatively low gross revenue."
   ]
  },
  {
   "cell_type": "markdown",
   "metadata": {},
   "source": [
    "### Location Level Analysis"
   ]
  },
  {
   "cell_type": "code",
   "execution_count": 19,
   "metadata": {
    "collapsed": false,
    "scrolled": false
   },
   "outputs": [
    {
     "name": "stderr",
     "output_type": "stream",
     "text": [
      "/Users/chenmeng/anaconda/lib/python3.6/site-packages/scipy/stats/stats.py:1626: FutureWarning: Using a non-tuple sequence for multidimensional indexing is deprecated; use `arr[tuple(seq)]` instead of `arr[seq]`. In the future this will be interpreted as an array index, `arr[np.array(seq)]`, which will result either in an error or a different result.\n",
      "  return np.add.reduce(sorted[indexer] * weights, axis=axis) / sumval\n"
     ]
    },
    {
     "data": {
      "text/plain": [
       "<matplotlib.text.Text at 0x12a302a20>"
      ]
     },
     "execution_count": 19,
     "metadata": {},
     "output_type": "execute_result"
    },
    {
     "data": {
      "image/png": "[encoded data removed]",
      "text/plain": [
       "<matplotlib.figure.Figure at 0x1281854e0>"
      ]
     },
     "metadata": {},
     "output_type": "display_data"
    }
   ],
   "source": [
    "sns.lmplot(x='Number of products',y='Annual Profit Margin',data=yearly_cleaned_df,fit_reg=True)\n",
    "ax = plt.gca()\n",
    "ax.set_title(\"Relationship between Annual Profit Margin and Number of Products\")\n",
    "ax.set_ylabel(\"Annual Profit Margin (%)\")"
   ]
  },
  {
   "cell_type": "code",
   "execution_count": 31,
   "metadata": {
    "collapsed": false
   },
   "outputs": [
    {
     "name": "stderr",
     "output_type": "stream",
     "text": [
      "/Users/chenmeng/anaconda/lib/python3.6/site-packages/scipy/stats/stats.py:1626: FutureWarning: Using a non-tuple sequence for multidimensional indexing is deprecated; use `arr[tuple(seq)]` instead of `arr[seq]`. In the future this will be interpreted as an array index, `arr[np.array(seq)]`, which will result either in an error or a different result.\n",
      "  return np.add.reduce(sorted[indexer] * weights, axis=axis) / sumval\n"
     ]
    },
    {
     "data": {
      "text/plain": [
       "<matplotlib.text.Text at 0x12af816d8>"
      ]
     },
     "execution_count": 31,
     "metadata": {},
     "output_type": "execute_result"
    },
    {
     "data": {
      "image/png": "[encoded data removed]",
      "text/plain": [
       "<matplotlib.figure.Figure at 0x12a587048>"
      ]
     },
     "metadata": {},
     "output_type": "display_data"
    }
   ],
   "source": [
    "yearly_cleaned_df_a = yearly_cleaned_df.loc[yearly_cleaned_df['Gross revenue']<500,]\n",
    "yearly_cleaned_df_b = yearly_cleaned_df.loc[yearly_cleaned_df['Gross revenue']>=500,]\n",
    "\n",
    "sns.lmplot(x='Gross revenue',y='Annual Profit Margin',data=yearly_cleaned_df_b,fit_reg=True)\n",
    "ax = plt.gca()\n",
    "ax.set_title(\"Relationship between Annual Profit Margin and Gross Revenue (>=500M)\")\n",
    "ax.set_ylabel(\"Annual Profit Margin (%)\")"
   ]
  },
  {
   "cell_type": "code",
   "execution_count": 154,
   "metadata": {
    "collapsed": false
   },
   "outputs": [
    {
     "data": {
      "text/html": [
       "<table class=\"simpletable\">\n",
       "<caption>OLS Regression Results</caption>\n",
       "<tr>\n",
       "  <th>Dep. Variable:</th>    <td>Annual Profit Margin</td> <th>  R-squared:         </th> <td>   0.658</td>\n",
       "</tr>\n",
       "<tr>\n",
       "  <th>Model:</th>                     <td>OLS</td>         <th>  Adj. R-squared:    </th> <td>   0.656</td>\n",
       "</tr>\n",
       "<tr>\n",
       "  <th>Method:</th>               <td>Least Squares</td>    <th>  F-statistic:       </th> <td>   317.4</td>\n",
       "</tr>\n",
       "<tr>\n",
       "  <th>Date:</th>               <td>Sun, 11 Aug 2019</td>   <th>  Prob (F-statistic):</th> <td>1.34e-77</td>\n",
       "</tr>\n",
       "<tr>\n",
       "  <th>Time:</th>                   <td>09:15:31</td>       <th>  Log-Likelihood:    </th> <td> -902.08</td>\n",
       "</tr>\n",
       "<tr>\n",
       "  <th>No. Observations:</th>        <td>   333</td>        <th>  AIC:               </th> <td>   1810.</td>\n",
       "</tr>\n",
       "<tr>\n",
       "  <th>Df Residuals:</th>            <td>   330</td>        <th>  BIC:               </th> <td>   1822.</td>\n",
       "</tr>\n",
       "<tr>\n",
       "  <th>Df Model:</th>                <td>     2</td>        <th>                     </th>     <td> </td>   \n",
       "</tr>\n",
       "<tr>\n",
       "  <th>Covariance Type:</th>        <td>nonrobust</td>      <th>                     </th>     <td> </td>   \n",
       "</tr>\n",
       "</table>\n",
       "<table class=\"simpletable\">\n",
       "<tr>\n",
       "           <td></td>             <th>coef</th>     <th>std err</th>      <th>t</th>      <th>P>|t|</th>  <th>[0.025</th>    <th>0.975]</th>  \n",
       "</tr>\n",
       "<tr>\n",
       "  <th>const</th>              <td> -130.2898</td> <td>    7.396</td> <td>  -17.616</td> <td> 0.000</td> <td> -144.840</td> <td> -115.740</td>\n",
       "</tr>\n",
       "<tr>\n",
       "  <th>Gross revenue</th>      <td>    0.0043</td> <td>    0.001</td> <td>    3.569</td> <td> 0.000</td> <td>    0.002</td> <td>    0.007</td>\n",
       "</tr>\n",
       "<tr>\n",
       "  <th>Number of products</th> <td>    0.0340</td> <td>    0.002</td> <td>   20.225</td> <td> 0.000</td> <td>    0.031</td> <td>    0.037</td>\n",
       "</tr>\n",
       "</table>\n",
       "<table class=\"simpletable\">\n",
       "<tr>\n",
       "  <th>Omnibus:</th>       <td>14.684</td> <th>  Durbin-Watson:     </th> <td>   1.873</td>\n",
       "</tr>\n",
       "<tr>\n",
       "  <th>Prob(Omnibus):</th> <td> 0.001</td> <th>  Jarque-Bera (JB):  </th> <td>  12.431</td>\n",
       "</tr>\n",
       "<tr>\n",
       "  <th>Skew:</th>          <td>-0.395</td> <th>  Prob(JB):          </th> <td> 0.00200</td>\n",
       "</tr>\n",
       "<tr>\n",
       "  <th>Kurtosis:</th>      <td> 2.477</td> <th>  Cond. No.          </th> <td>1.67e+05</td>\n",
       "</tr>\n",
       "</table>"
      ],
      "text/plain": [
       "<class 'statsmodels.iolib.summary.Summary'>\n",
       "\"\"\"\n",
       "                             OLS Regression Results                             \n",
       "================================================================================\n",
       "Dep. Variable:     Annual Profit Margin   R-squared:                       0.658\n",
       "Model:                              OLS   Adj. R-squared:                  0.656\n",
       "Method:                   Least Squares   F-statistic:                     317.4\n",
       "Date:                  Sun, 11 Aug 2019   Prob (F-statistic):           1.34e-77\n",
       "Time:                          09:15:31   Log-Likelihood:                -902.08\n",
       "No. Observations:                   333   AIC:                             1810.\n",
       "Df Residuals:                       330   BIC:                             1822.\n",
       "Df Model:                             2                                         \n",
       "Covariance Type:              nonrobust                                         \n",
       "======================================================================================\n",
       "                         coef    std err          t      P>|t|      [0.025      0.975]\n",
       "--------------------------------------------------------------------------------------\n",
       "const               -130.2898      7.396    -17.616      0.000    -144.840    -115.740\n",
       "Gross revenue          0.0043      0.001      3.569      0.000       0.002       0.007\n",
       "Number of products     0.0340      0.002     20.225      0.000       0.031       0.037\n",
       "==============================================================================\n",
       "Omnibus:                       14.684   Durbin-Watson:                   1.873\n",
       "Prob(Omnibus):                  0.001   Jarque-Bera (JB):               12.431\n",
       "Skew:                          -0.395   Prob(JB):                      0.00200\n",
       "Kurtosis:                       2.477   Cond. No.                     1.67e+05\n",
       "==============================================================================\n",
       "\n",
       "Warnings:\n",
       "[1] Standard Errors assume that the covariance matrix of the errors is correctly specified.\n",
       "[2] The condition number is large, 1.67e+05. This might indicate that there are\n",
       "strong multicollinearity or other numerical problems.\n",
       "\"\"\""
      ]
     },
     "execution_count": 154,
     "metadata": {},
     "output_type": "execute_result"
    }
   ],
   "source": [
    "X = yearly_cleaned_df[['Gross revenue', 'Number of products']] \n",
    "y = yearly_cleaned_df['Annual Profit Margin']\n",
    "## fit a OLS model with intercept on TV and Radio\n",
    "X = sm.add_constant(X)\n",
    "est = sm.OLS(y, X).fit()\n",
    "est.summary()"
   ]
  },
  {
   "cell_type": "markdown",
   "metadata": {},
   "source": [
    "## Observation 2: Number of products and location size (represented by gross revenue) are highly positively correlated with profit margin at each location. To maximize profit margin, two approaches are: increasing the breadth of products offered, and expanding location size to achieve economy of scale. "
   ]
  },
  {
   "cell_type": "code",
   "execution_count": null,
   "metadata": {
    "collapsed": true
   },
   "outputs": [],
   "source": []
  },
  {
   "cell_type": "code",
   "execution_count": null,
   "metadata": {
    "collapsed": true
   },
   "outputs": [],
   "source": []
  }
 ],
 "metadata": {
  "kernelspec": {
   "display_name": "Python 3",
   "language": "python",
   "name": "python3"
  },
  "language_info": {
   "codemirror_mode": {
    "name": "ipython",
    "version": 3
   },
   "file_extension": ".py",
   "mimetype": "text/x-python",
   "name": "python",
   "nbconvert_exporter": "python",
   "pygments_lexer": "ipython3",
   "version": "3.6.0"
  }
 },
 "nbformat": 4,
 "nbformat_minor": 2
}
